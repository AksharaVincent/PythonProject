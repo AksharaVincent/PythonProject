{
 "cells": [
  {
   "cell_type": "code",
   "execution_count": 48,
   "id": "4fe3894d",
   "metadata": {},
   "outputs": [
    {
     "data": {
      "text/html": [
       "<div>\n",
       "<style scoped>\n",
       "    .dataframe tbody tr th:only-of-type {\n",
       "        vertical-align: middle;\n",
       "    }\n",
       "\n",
       "    .dataframe tbody tr th {\n",
       "        vertical-align: top;\n",
       "    }\n",
       "\n",
       "    .dataframe thead th {\n",
       "        text-align: right;\n",
       "    }\n",
       "</style>\n",
       "<table border=\"1\" class=\"dataframe\">\n",
       "  <thead>\n",
       "    <tr style=\"text-align: right;\">\n",
       "      <th></th>\n",
       "      <th>Student ID</th>\n",
       "      <th>gender</th>\n",
       "      <th>race/ethnicity</th>\n",
       "      <th>parental level of education</th>\n",
       "      <th>lunch</th>\n",
       "      <th>Column</th>\n",
       "      <th>Column.1</th>\n",
       "      <th>test preparation course</th>\n",
       "      <th>math score</th>\n",
       "      <th>reading score</th>\n",
       "      <th>writing score</th>\n",
       "    </tr>\n",
       "  </thead>\n",
       "  <tbody>\n",
       "    <tr>\n",
       "      <th>0</th>\n",
       "      <td>1.0</td>\n",
       "      <td>female</td>\n",
       "      <td>group B</td>\n",
       "      <td>bachelor's degree</td>\n",
       "      <td>standard</td>\n",
       "      <td>NaN</td>\n",
       "      <td>NaN</td>\n",
       "      <td>none</td>\n",
       "      <td>72.0</td>\n",
       "      <td>72.0</td>\n",
       "      <td>74.0</td>\n",
       "    </tr>\n",
       "    <tr>\n",
       "      <th>1</th>\n",
       "      <td>2.0</td>\n",
       "      <td>female</td>\n",
       "      <td>group C</td>\n",
       "      <td>Diploma</td>\n",
       "      <td>standard</td>\n",
       "      <td>NaN</td>\n",
       "      <td>NaN</td>\n",
       "      <td>completed</td>\n",
       "      <td>69.0</td>\n",
       "      <td>90.0</td>\n",
       "      <td>88.0</td>\n",
       "    </tr>\n",
       "    <tr>\n",
       "      <th>2</th>\n",
       "      <td>3.0</td>\n",
       "      <td>female</td>\n",
       "      <td>group B</td>\n",
       "      <td>master's degree</td>\n",
       "      <td>standard</td>\n",
       "      <td>NaN</td>\n",
       "      <td>NaN</td>\n",
       "      <td>none</td>\n",
       "      <td>90.0</td>\n",
       "      <td>95.0</td>\n",
       "      <td>93.0</td>\n",
       "    </tr>\n",
       "    <tr>\n",
       "      <th>3</th>\n",
       "      <td>4.0</td>\n",
       "      <td>male</td>\n",
       "      <td>group A</td>\n",
       "      <td>associate's degree</td>\n",
       "      <td>free/reduced</td>\n",
       "      <td>NaN</td>\n",
       "      <td>NaN</td>\n",
       "      <td>none</td>\n",
       "      <td>47.0</td>\n",
       "      <td>57.0</td>\n",
       "      <td>44.0</td>\n",
       "    </tr>\n",
       "    <tr>\n",
       "      <th>4</th>\n",
       "      <td>5.0</td>\n",
       "      <td>male</td>\n",
       "      <td>group C</td>\n",
       "      <td>Diploma</td>\n",
       "      <td>standard</td>\n",
       "      <td>NaN</td>\n",
       "      <td>NaN</td>\n",
       "      <td>none</td>\n",
       "      <td>76.0</td>\n",
       "      <td>78.0</td>\n",
       "      <td>75.0</td>\n",
       "    </tr>\n",
       "    <tr>\n",
       "      <th>...</th>\n",
       "      <td>...</td>\n",
       "      <td>...</td>\n",
       "      <td>...</td>\n",
       "      <td>...</td>\n",
       "      <td>...</td>\n",
       "      <td>...</td>\n",
       "      <td>...</td>\n",
       "      <td>...</td>\n",
       "      <td>...</td>\n",
       "      <td>...</td>\n",
       "      <td>...</td>\n",
       "    </tr>\n",
       "    <tr>\n",
       "      <th>1013</th>\n",
       "      <td>1001.0</td>\n",
       "      <td>female</td>\n",
       "      <td>group E</td>\n",
       "      <td>master's degree</td>\n",
       "      <td>standard</td>\n",
       "      <td>NaN</td>\n",
       "      <td>NaN</td>\n",
       "      <td>completed</td>\n",
       "      <td>88.0</td>\n",
       "      <td>99.0</td>\n",
       "      <td>95.0</td>\n",
       "    </tr>\n",
       "    <tr>\n",
       "      <th>1014</th>\n",
       "      <td>1002.0</td>\n",
       "      <td>male</td>\n",
       "      <td>group C</td>\n",
       "      <td>high school</td>\n",
       "      <td>free/reduced</td>\n",
       "      <td>NaN</td>\n",
       "      <td>NaN</td>\n",
       "      <td>none</td>\n",
       "      <td>62.0</td>\n",
       "      <td>55.0</td>\n",
       "      <td>55.0</td>\n",
       "    </tr>\n",
       "    <tr>\n",
       "      <th>1015</th>\n",
       "      <td>1003.0</td>\n",
       "      <td>female</td>\n",
       "      <td>group C</td>\n",
       "      <td>high school</td>\n",
       "      <td>free/reduced</td>\n",
       "      <td>NaN</td>\n",
       "      <td>NaN</td>\n",
       "      <td>completed</td>\n",
       "      <td>59.0</td>\n",
       "      <td>71.0</td>\n",
       "      <td>65.0</td>\n",
       "    </tr>\n",
       "    <tr>\n",
       "      <th>1016</th>\n",
       "      <td>1004.0</td>\n",
       "      <td>female</td>\n",
       "      <td>group D</td>\n",
       "      <td>Diploma</td>\n",
       "      <td>standard</td>\n",
       "      <td>NaN</td>\n",
       "      <td>NaN</td>\n",
       "      <td>completed</td>\n",
       "      <td>68.0</td>\n",
       "      <td>78.0</td>\n",
       "      <td>77.0</td>\n",
       "    </tr>\n",
       "    <tr>\n",
       "      <th>1017</th>\n",
       "      <td>1005.0</td>\n",
       "      <td>female</td>\n",
       "      <td>group D</td>\n",
       "      <td>Diploma</td>\n",
       "      <td>free/reduced</td>\n",
       "      <td>NaN</td>\n",
       "      <td>NaN</td>\n",
       "      <td>none</td>\n",
       "      <td>77.0</td>\n",
       "      <td>86.0</td>\n",
       "      <td>86.0</td>\n",
       "    </tr>\n",
       "  </tbody>\n",
       "</table>\n",
       "<p>1018 rows × 11 columns</p>\n",
       "</div>"
      ],
      "text/plain": [
       "      Student ID  gender race/ethnicity parental level of education  \\\n",
       "0            1.0  female        group B           bachelor's degree   \n",
       "1            2.0  female        group C                     Diploma   \n",
       "2            3.0  female        group B             master's degree   \n",
       "3            4.0    male        group A          associate's degree   \n",
       "4            5.0    male        group C                     Diploma   \n",
       "...          ...     ...            ...                         ...   \n",
       "1013      1001.0  female        group E             master's degree   \n",
       "1014      1002.0    male        group C                 high school   \n",
       "1015      1003.0  female        group C                 high school   \n",
       "1016      1004.0  female        group D                     Diploma   \n",
       "1017      1005.0  female        group D                     Diploma   \n",
       "\n",
       "             lunch  Column  Column.1 test preparation course  math score  \\\n",
       "0         standard     NaN       NaN                    none        72.0   \n",
       "1         standard     NaN       NaN               completed        69.0   \n",
       "2         standard     NaN       NaN                    none        90.0   \n",
       "3     free/reduced     NaN       NaN                    none        47.0   \n",
       "4         standard     NaN       NaN                    none        76.0   \n",
       "...            ...     ...       ...                     ...         ...   \n",
       "1013      standard     NaN       NaN               completed        88.0   \n",
       "1014  free/reduced     NaN       NaN                    none        62.0   \n",
       "1015  free/reduced     NaN       NaN               completed        59.0   \n",
       "1016      standard     NaN       NaN               completed        68.0   \n",
       "1017  free/reduced     NaN       NaN                    none        77.0   \n",
       "\n",
       "      reading score  writing score  \n",
       "0              72.0           74.0  \n",
       "1              90.0           88.0  \n",
       "2              95.0           93.0  \n",
       "3              57.0           44.0  \n",
       "4              78.0           75.0  \n",
       "...             ...            ...  \n",
       "1013           99.0           95.0  \n",
       "1014           55.0           55.0  \n",
       "1015           71.0           65.0  \n",
       "1016           78.0           77.0  \n",
       "1017           86.0           86.0  \n",
       "\n",
       "[1018 rows x 11 columns]"
      ]
     },
     "execution_count": 48,
     "metadata": {},
     "output_type": "execute_result"
    }
   ],
   "source": [
    "import pandas as pd\n",
    "data = pd.read_csv('StudentsPerformance (1).csv')\n",
    "data"
   ]
  },
  {
   "cell_type": "code",
   "execution_count": 49,
   "id": "086d9d73",
   "metadata": {},
   "outputs": [
    {
     "name": "stdout",
     "output_type": "stream",
     "text": [
      "<class 'pandas.core.frame.DataFrame'>\n",
      "RangeIndex: 1018 entries, 0 to 1017\n",
      "Data columns (total 11 columns):\n",
      " #   Column                       Non-Null Count  Dtype  \n",
      "---  ------                       --------------  -----  \n",
      " 0   Student ID                   1005 non-null   float64\n",
      " 1   gender                       1005 non-null   object \n",
      " 2   race/ethnicity               1005 non-null   object \n",
      " 3   parental level of education  1005 non-null   object \n",
      " 4   lunch                        1005 non-null   object \n",
      " 5   Column                       0 non-null      float64\n",
      " 6   Column.1                     0 non-null      float64\n",
      " 7   test preparation course      1005 non-null   object \n",
      " 8   math score                   1000 non-null   float64\n",
      " 9   reading score                1000 non-null   float64\n",
      " 10  writing score                1000 non-null   float64\n",
      "dtypes: float64(6), object(5)\n",
      "memory usage: 87.6+ KB\n"
     ]
    }
   ],
   "source": [
    "data.info()"
   ]
  },
  {
   "cell_type": "markdown",
   "id": "7abc172b",
   "metadata": {},
   "source": [
    "### 1. check whether null values are present in the given data."
   ]
  },
  {
   "cell_type": "code",
   "execution_count": 50,
   "id": "5010e57d",
   "metadata": {},
   "outputs": [
    {
     "data": {
      "text/plain": [
       "Student ID                       13\n",
       "gender                           13\n",
       "race/ethnicity                   13\n",
       "parental level of education      13\n",
       "lunch                            13\n",
       "Column                         1018\n",
       "Column.1                       1018\n",
       "test preparation course          13\n",
       "math score                       18\n",
       "reading score                    18\n",
       "writing score                    18\n",
       "dtype: int64"
      ]
     },
     "execution_count": 50,
     "metadata": {},
     "output_type": "execute_result"
    }
   ],
   "source": [
    "data.isna().sum()"
   ]
  },
  {
   "cell_type": "code",
   "execution_count": 51,
   "id": "69419230",
   "metadata": {},
   "outputs": [
    {
     "data": {
      "text/html": [
       "<div>\n",
       "<style scoped>\n",
       "    .dataframe tbody tr th:only-of-type {\n",
       "        vertical-align: middle;\n",
       "    }\n",
       "\n",
       "    .dataframe tbody tr th {\n",
       "        vertical-align: top;\n",
       "    }\n",
       "\n",
       "    .dataframe thead th {\n",
       "        text-align: right;\n",
       "    }\n",
       "</style>\n",
       "<table border=\"1\" class=\"dataframe\">\n",
       "  <thead>\n",
       "    <tr style=\"text-align: right;\">\n",
       "      <th></th>\n",
       "      <th>Student ID</th>\n",
       "      <th>gender</th>\n",
       "      <th>race/ethnicity</th>\n",
       "      <th>parental level of education</th>\n",
       "      <th>lunch</th>\n",
       "      <th>Column</th>\n",
       "      <th>Column.1</th>\n",
       "      <th>test preparation course</th>\n",
       "      <th>math score</th>\n",
       "      <th>reading score</th>\n",
       "      <th>writing score</th>\n",
       "    </tr>\n",
       "  </thead>\n",
       "  <tbody>\n",
       "    <tr>\n",
       "      <th>0</th>\n",
       "      <td>1.0</td>\n",
       "      <td>female</td>\n",
       "      <td>group B</td>\n",
       "      <td>bachelor's degree</td>\n",
       "      <td>standard</td>\n",
       "      <td>0.0</td>\n",
       "      <td>0.0</td>\n",
       "      <td>none</td>\n",
       "      <td>72.0</td>\n",
       "      <td>72.0</td>\n",
       "      <td>74.0</td>\n",
       "    </tr>\n",
       "    <tr>\n",
       "      <th>1</th>\n",
       "      <td>2.0</td>\n",
       "      <td>female</td>\n",
       "      <td>group C</td>\n",
       "      <td>Diploma</td>\n",
       "      <td>standard</td>\n",
       "      <td>0.0</td>\n",
       "      <td>0.0</td>\n",
       "      <td>completed</td>\n",
       "      <td>69.0</td>\n",
       "      <td>90.0</td>\n",
       "      <td>88.0</td>\n",
       "    </tr>\n",
       "    <tr>\n",
       "      <th>2</th>\n",
       "      <td>3.0</td>\n",
       "      <td>female</td>\n",
       "      <td>group B</td>\n",
       "      <td>master's degree</td>\n",
       "      <td>standard</td>\n",
       "      <td>0.0</td>\n",
       "      <td>0.0</td>\n",
       "      <td>none</td>\n",
       "      <td>90.0</td>\n",
       "      <td>95.0</td>\n",
       "      <td>93.0</td>\n",
       "    </tr>\n",
       "    <tr>\n",
       "      <th>3</th>\n",
       "      <td>4.0</td>\n",
       "      <td>male</td>\n",
       "      <td>group A</td>\n",
       "      <td>associate's degree</td>\n",
       "      <td>free/reduced</td>\n",
       "      <td>0.0</td>\n",
       "      <td>0.0</td>\n",
       "      <td>none</td>\n",
       "      <td>47.0</td>\n",
       "      <td>57.0</td>\n",
       "      <td>44.0</td>\n",
       "    </tr>\n",
       "    <tr>\n",
       "      <th>4</th>\n",
       "      <td>5.0</td>\n",
       "      <td>male</td>\n",
       "      <td>group C</td>\n",
       "      <td>Diploma</td>\n",
       "      <td>standard</td>\n",
       "      <td>0.0</td>\n",
       "      <td>0.0</td>\n",
       "      <td>none</td>\n",
       "      <td>76.0</td>\n",
       "      <td>78.0</td>\n",
       "      <td>75.0</td>\n",
       "    </tr>\n",
       "  </tbody>\n",
       "</table>\n",
       "</div>"
      ],
      "text/plain": [
       "   Student ID  gender race/ethnicity parental level of education  \\\n",
       "0         1.0  female        group B           bachelor's degree   \n",
       "1         2.0  female        group C                     Diploma   \n",
       "2         3.0  female        group B             master's degree   \n",
       "3         4.0    male        group A          associate's degree   \n",
       "4         5.0    male        group C                     Diploma   \n",
       "\n",
       "          lunch  Column  Column.1 test preparation course  math score  \\\n",
       "0      standard     0.0       0.0                    none        72.0   \n",
       "1      standard     0.0       0.0               completed        69.0   \n",
       "2      standard     0.0       0.0                    none        90.0   \n",
       "3  free/reduced     0.0       0.0                    none        47.0   \n",
       "4      standard     0.0       0.0                    none        76.0   \n",
       "\n",
       "   reading score  writing score  \n",
       "0           72.0           74.0  \n",
       "1           90.0           88.0  \n",
       "2           95.0           93.0  \n",
       "3           57.0           44.0  \n",
       "4           78.0           75.0  "
      ]
     },
     "execution_count": 51,
     "metadata": {},
     "output_type": "execute_result"
    }
   ],
   "source": [
    "data=data.fillna(0)\n",
    "data.head()"
   ]
  },
  {
   "cell_type": "code",
   "execution_count": 52,
   "id": "c65796c4",
   "metadata": {},
   "outputs": [
    {
     "data": {
      "text/plain": [
       "Student ID                     0\n",
       "gender                         0\n",
       "race/ethnicity                 0\n",
       "parental level of education    0\n",
       "lunch                          0\n",
       "Column                         0\n",
       "Column.1                       0\n",
       "test preparation course        0\n",
       "math score                     0\n",
       "reading score                  0\n",
       "writing score                  0\n",
       "dtype: int64"
      ]
     },
     "execution_count": 52,
     "metadata": {},
     "output_type": "execute_result"
    }
   ],
   "source": [
    "data.isna().sum()"
   ]
  },
  {
   "cell_type": "code",
   "execution_count": 53,
   "id": "49d43f76",
   "metadata": {},
   "outputs": [
    {
     "data": {
      "text/html": [
       "<div>\n",
       "<style scoped>\n",
       "    .dataframe tbody tr th:only-of-type {\n",
       "        vertical-align: middle;\n",
       "    }\n",
       "\n",
       "    .dataframe tbody tr th {\n",
       "        vertical-align: top;\n",
       "    }\n",
       "\n",
       "    .dataframe thead th {\n",
       "        text-align: right;\n",
       "    }\n",
       "</style>\n",
       "<table border=\"1\" class=\"dataframe\">\n",
       "  <thead>\n",
       "    <tr style=\"text-align: right;\">\n",
       "      <th></th>\n",
       "      <th>Student ID</th>\n",
       "      <th>gender</th>\n",
       "      <th>race/ethnicity</th>\n",
       "      <th>parental level of education</th>\n",
       "      <th>lunch</th>\n",
       "      <th>Column.1</th>\n",
       "      <th>test preparation course</th>\n",
       "      <th>math score</th>\n",
       "      <th>reading score</th>\n",
       "      <th>writing score</th>\n",
       "    </tr>\n",
       "  </thead>\n",
       "  <tbody>\n",
       "    <tr>\n",
       "      <th>0</th>\n",
       "      <td>1.0</td>\n",
       "      <td>female</td>\n",
       "      <td>group B</td>\n",
       "      <td>bachelor's degree</td>\n",
       "      <td>standard</td>\n",
       "      <td>0.0</td>\n",
       "      <td>none</td>\n",
       "      <td>72.0</td>\n",
       "      <td>72.0</td>\n",
       "      <td>74.0</td>\n",
       "    </tr>\n",
       "    <tr>\n",
       "      <th>1</th>\n",
       "      <td>2.0</td>\n",
       "      <td>female</td>\n",
       "      <td>group C</td>\n",
       "      <td>Diploma</td>\n",
       "      <td>standard</td>\n",
       "      <td>0.0</td>\n",
       "      <td>completed</td>\n",
       "      <td>69.0</td>\n",
       "      <td>90.0</td>\n",
       "      <td>88.0</td>\n",
       "    </tr>\n",
       "    <tr>\n",
       "      <th>2</th>\n",
       "      <td>3.0</td>\n",
       "      <td>female</td>\n",
       "      <td>group B</td>\n",
       "      <td>master's degree</td>\n",
       "      <td>standard</td>\n",
       "      <td>0.0</td>\n",
       "      <td>none</td>\n",
       "      <td>90.0</td>\n",
       "      <td>95.0</td>\n",
       "      <td>93.0</td>\n",
       "    </tr>\n",
       "    <tr>\n",
       "      <th>3</th>\n",
       "      <td>4.0</td>\n",
       "      <td>male</td>\n",
       "      <td>group A</td>\n",
       "      <td>associate's degree</td>\n",
       "      <td>free/reduced</td>\n",
       "      <td>0.0</td>\n",
       "      <td>none</td>\n",
       "      <td>47.0</td>\n",
       "      <td>57.0</td>\n",
       "      <td>44.0</td>\n",
       "    </tr>\n",
       "    <tr>\n",
       "      <th>4</th>\n",
       "      <td>5.0</td>\n",
       "      <td>male</td>\n",
       "      <td>group C</td>\n",
       "      <td>Diploma</td>\n",
       "      <td>standard</td>\n",
       "      <td>0.0</td>\n",
       "      <td>none</td>\n",
       "      <td>76.0</td>\n",
       "      <td>78.0</td>\n",
       "      <td>75.0</td>\n",
       "    </tr>\n",
       "    <tr>\n",
       "      <th>...</th>\n",
       "      <td>...</td>\n",
       "      <td>...</td>\n",
       "      <td>...</td>\n",
       "      <td>...</td>\n",
       "      <td>...</td>\n",
       "      <td>...</td>\n",
       "      <td>...</td>\n",
       "      <td>...</td>\n",
       "      <td>...</td>\n",
       "      <td>...</td>\n",
       "    </tr>\n",
       "    <tr>\n",
       "      <th>1013</th>\n",
       "      <td>1001.0</td>\n",
       "      <td>female</td>\n",
       "      <td>group E</td>\n",
       "      <td>master's degree</td>\n",
       "      <td>standard</td>\n",
       "      <td>0.0</td>\n",
       "      <td>completed</td>\n",
       "      <td>88.0</td>\n",
       "      <td>99.0</td>\n",
       "      <td>95.0</td>\n",
       "    </tr>\n",
       "    <tr>\n",
       "      <th>1014</th>\n",
       "      <td>1002.0</td>\n",
       "      <td>male</td>\n",
       "      <td>group C</td>\n",
       "      <td>high school</td>\n",
       "      <td>free/reduced</td>\n",
       "      <td>0.0</td>\n",
       "      <td>none</td>\n",
       "      <td>62.0</td>\n",
       "      <td>55.0</td>\n",
       "      <td>55.0</td>\n",
       "    </tr>\n",
       "    <tr>\n",
       "      <th>1015</th>\n",
       "      <td>1003.0</td>\n",
       "      <td>female</td>\n",
       "      <td>group C</td>\n",
       "      <td>high school</td>\n",
       "      <td>free/reduced</td>\n",
       "      <td>0.0</td>\n",
       "      <td>completed</td>\n",
       "      <td>59.0</td>\n",
       "      <td>71.0</td>\n",
       "      <td>65.0</td>\n",
       "    </tr>\n",
       "    <tr>\n",
       "      <th>1016</th>\n",
       "      <td>1004.0</td>\n",
       "      <td>female</td>\n",
       "      <td>group D</td>\n",
       "      <td>Diploma</td>\n",
       "      <td>standard</td>\n",
       "      <td>0.0</td>\n",
       "      <td>completed</td>\n",
       "      <td>68.0</td>\n",
       "      <td>78.0</td>\n",
       "      <td>77.0</td>\n",
       "    </tr>\n",
       "    <tr>\n",
       "      <th>1017</th>\n",
       "      <td>1005.0</td>\n",
       "      <td>female</td>\n",
       "      <td>group D</td>\n",
       "      <td>Diploma</td>\n",
       "      <td>free/reduced</td>\n",
       "      <td>0.0</td>\n",
       "      <td>none</td>\n",
       "      <td>77.0</td>\n",
       "      <td>86.0</td>\n",
       "      <td>86.0</td>\n",
       "    </tr>\n",
       "  </tbody>\n",
       "</table>\n",
       "<p>1018 rows × 10 columns</p>\n",
       "</div>"
      ],
      "text/plain": [
       "      Student ID  gender race/ethnicity parental level of education  \\\n",
       "0            1.0  female        group B           bachelor's degree   \n",
       "1            2.0  female        group C                     Diploma   \n",
       "2            3.0  female        group B             master's degree   \n",
       "3            4.0    male        group A          associate's degree   \n",
       "4            5.0    male        group C                     Diploma   \n",
       "...          ...     ...            ...                         ...   \n",
       "1013      1001.0  female        group E             master's degree   \n",
       "1014      1002.0    male        group C                 high school   \n",
       "1015      1003.0  female        group C                 high school   \n",
       "1016      1004.0  female        group D                     Diploma   \n",
       "1017      1005.0  female        group D                     Diploma   \n",
       "\n",
       "             lunch  Column.1 test preparation course  math score  \\\n",
       "0         standard       0.0                    none        72.0   \n",
       "1         standard       0.0               completed        69.0   \n",
       "2         standard       0.0                    none        90.0   \n",
       "3     free/reduced       0.0                    none        47.0   \n",
       "4         standard       0.0                    none        76.0   \n",
       "...            ...       ...                     ...         ...   \n",
       "1013      standard       0.0               completed        88.0   \n",
       "1014  free/reduced       0.0                    none        62.0   \n",
       "1015  free/reduced       0.0               completed        59.0   \n",
       "1016      standard       0.0               completed        68.0   \n",
       "1017  free/reduced       0.0                    none        77.0   \n",
       "\n",
       "      reading score  writing score  \n",
       "0              72.0           74.0  \n",
       "1              90.0           88.0  \n",
       "2              95.0           93.0  \n",
       "3              57.0           44.0  \n",
       "4              78.0           75.0  \n",
       "...             ...            ...  \n",
       "1013           99.0           95.0  \n",
       "1014           55.0           55.0  \n",
       "1015           71.0           65.0  \n",
       "1016           78.0           77.0  \n",
       "1017           86.0           86.0  \n",
       "\n",
       "[1018 rows x 10 columns]"
      ]
     },
     "execution_count": 53,
     "metadata": {},
     "output_type": "execute_result"
    }
   ],
   "source": [
    "#dropping using drop()\n",
    "\n",
    "data.drop(['Column'], axis = 1)"
   ]
  },
  {
   "cell_type": "code",
   "execution_count": 54,
   "id": "4187187f",
   "metadata": {},
   "outputs": [
    {
     "data": {
      "text/html": [
       "<div>\n",
       "<style scoped>\n",
       "    .dataframe tbody tr th:only-of-type {\n",
       "        vertical-align: middle;\n",
       "    }\n",
       "\n",
       "    .dataframe tbody tr th {\n",
       "        vertical-align: top;\n",
       "    }\n",
       "\n",
       "    .dataframe thead th {\n",
       "        text-align: right;\n",
       "    }\n",
       "</style>\n",
       "<table border=\"1\" class=\"dataframe\">\n",
       "  <thead>\n",
       "    <tr style=\"text-align: right;\">\n",
       "      <th></th>\n",
       "      <th>Student ID</th>\n",
       "      <th>gender</th>\n",
       "      <th>race/ethnicity</th>\n",
       "      <th>parental level of education</th>\n",
       "      <th>lunch</th>\n",
       "      <th>test preparation course</th>\n",
       "      <th>math score</th>\n",
       "      <th>reading score</th>\n",
       "      <th>writing score</th>\n",
       "    </tr>\n",
       "  </thead>\n",
       "  <tbody>\n",
       "    <tr>\n",
       "      <th>0</th>\n",
       "      <td>1.0</td>\n",
       "      <td>female</td>\n",
       "      <td>group B</td>\n",
       "      <td>bachelor's degree</td>\n",
       "      <td>standard</td>\n",
       "      <td>none</td>\n",
       "      <td>72.0</td>\n",
       "      <td>72.0</td>\n",
       "      <td>74.0</td>\n",
       "    </tr>\n",
       "    <tr>\n",
       "      <th>1</th>\n",
       "      <td>2.0</td>\n",
       "      <td>female</td>\n",
       "      <td>group C</td>\n",
       "      <td>Diploma</td>\n",
       "      <td>standard</td>\n",
       "      <td>completed</td>\n",
       "      <td>69.0</td>\n",
       "      <td>90.0</td>\n",
       "      <td>88.0</td>\n",
       "    </tr>\n",
       "    <tr>\n",
       "      <th>2</th>\n",
       "      <td>3.0</td>\n",
       "      <td>female</td>\n",
       "      <td>group B</td>\n",
       "      <td>master's degree</td>\n",
       "      <td>standard</td>\n",
       "      <td>none</td>\n",
       "      <td>90.0</td>\n",
       "      <td>95.0</td>\n",
       "      <td>93.0</td>\n",
       "    </tr>\n",
       "    <tr>\n",
       "      <th>3</th>\n",
       "      <td>4.0</td>\n",
       "      <td>male</td>\n",
       "      <td>group A</td>\n",
       "      <td>associate's degree</td>\n",
       "      <td>free/reduced</td>\n",
       "      <td>none</td>\n",
       "      <td>47.0</td>\n",
       "      <td>57.0</td>\n",
       "      <td>44.0</td>\n",
       "    </tr>\n",
       "    <tr>\n",
       "      <th>4</th>\n",
       "      <td>5.0</td>\n",
       "      <td>male</td>\n",
       "      <td>group C</td>\n",
       "      <td>Diploma</td>\n",
       "      <td>standard</td>\n",
       "      <td>none</td>\n",
       "      <td>76.0</td>\n",
       "      <td>78.0</td>\n",
       "      <td>75.0</td>\n",
       "    </tr>\n",
       "    <tr>\n",
       "      <th>...</th>\n",
       "      <td>...</td>\n",
       "      <td>...</td>\n",
       "      <td>...</td>\n",
       "      <td>...</td>\n",
       "      <td>...</td>\n",
       "      <td>...</td>\n",
       "      <td>...</td>\n",
       "      <td>...</td>\n",
       "      <td>...</td>\n",
       "    </tr>\n",
       "    <tr>\n",
       "      <th>1013</th>\n",
       "      <td>1001.0</td>\n",
       "      <td>female</td>\n",
       "      <td>group E</td>\n",
       "      <td>master's degree</td>\n",
       "      <td>standard</td>\n",
       "      <td>completed</td>\n",
       "      <td>88.0</td>\n",
       "      <td>99.0</td>\n",
       "      <td>95.0</td>\n",
       "    </tr>\n",
       "    <tr>\n",
       "      <th>1014</th>\n",
       "      <td>1002.0</td>\n",
       "      <td>male</td>\n",
       "      <td>group C</td>\n",
       "      <td>high school</td>\n",
       "      <td>free/reduced</td>\n",
       "      <td>none</td>\n",
       "      <td>62.0</td>\n",
       "      <td>55.0</td>\n",
       "      <td>55.0</td>\n",
       "    </tr>\n",
       "    <tr>\n",
       "      <th>1015</th>\n",
       "      <td>1003.0</td>\n",
       "      <td>female</td>\n",
       "      <td>group C</td>\n",
       "      <td>high school</td>\n",
       "      <td>free/reduced</td>\n",
       "      <td>completed</td>\n",
       "      <td>59.0</td>\n",
       "      <td>71.0</td>\n",
       "      <td>65.0</td>\n",
       "    </tr>\n",
       "    <tr>\n",
       "      <th>1016</th>\n",
       "      <td>1004.0</td>\n",
       "      <td>female</td>\n",
       "      <td>group D</td>\n",
       "      <td>Diploma</td>\n",
       "      <td>standard</td>\n",
       "      <td>completed</td>\n",
       "      <td>68.0</td>\n",
       "      <td>78.0</td>\n",
       "      <td>77.0</td>\n",
       "    </tr>\n",
       "    <tr>\n",
       "      <th>1017</th>\n",
       "      <td>1005.0</td>\n",
       "      <td>female</td>\n",
       "      <td>group D</td>\n",
       "      <td>Diploma</td>\n",
       "      <td>free/reduced</td>\n",
       "      <td>none</td>\n",
       "      <td>77.0</td>\n",
       "      <td>86.0</td>\n",
       "      <td>86.0</td>\n",
       "    </tr>\n",
       "  </tbody>\n",
       "</table>\n",
       "<p>1018 rows × 9 columns</p>\n",
       "</div>"
      ],
      "text/plain": [
       "      Student ID  gender race/ethnicity parental level of education  \\\n",
       "0            1.0  female        group B           bachelor's degree   \n",
       "1            2.0  female        group C                     Diploma   \n",
       "2            3.0  female        group B             master's degree   \n",
       "3            4.0    male        group A          associate's degree   \n",
       "4            5.0    male        group C                     Diploma   \n",
       "...          ...     ...            ...                         ...   \n",
       "1013      1001.0  female        group E             master's degree   \n",
       "1014      1002.0    male        group C                 high school   \n",
       "1015      1003.0  female        group C                 high school   \n",
       "1016      1004.0  female        group D                     Diploma   \n",
       "1017      1005.0  female        group D                     Diploma   \n",
       "\n",
       "             lunch test preparation course  math score  reading score  \\\n",
       "0         standard                    none        72.0           72.0   \n",
       "1         standard               completed        69.0           90.0   \n",
       "2         standard                    none        90.0           95.0   \n",
       "3     free/reduced                    none        47.0           57.0   \n",
       "4         standard                    none        76.0           78.0   \n",
       "...            ...                     ...         ...            ...   \n",
       "1013      standard               completed        88.0           99.0   \n",
       "1014  free/reduced                    none        62.0           55.0   \n",
       "1015  free/reduced               completed        59.0           71.0   \n",
       "1016      standard               completed        68.0           78.0   \n",
       "1017  free/reduced                    none        77.0           86.0   \n",
       "\n",
       "      writing score  \n",
       "0              74.0  \n",
       "1              88.0  \n",
       "2              93.0  \n",
       "3              44.0  \n",
       "4              75.0  \n",
       "...             ...  \n",
       "1013           95.0  \n",
       "1014           55.0  \n",
       "1015           65.0  \n",
       "1016           77.0  \n",
       "1017           86.0  \n",
       "\n",
       "[1018 rows x 9 columns]"
      ]
     },
     "execution_count": 54,
     "metadata": {},
     "output_type": "execute_result"
    }
   ],
   "source": [
    "data.drop(['Column', 'Column.1'], axis = 1)"
   ]
  },
  {
   "cell_type": "markdown",
   "id": "77759970",
   "metadata": {},
   "source": [
    "### 2.find the total number of students."
   ]
  },
  {
   "cell_type": "code",
   "execution_count": 55,
   "id": "96cf14d4",
   "metadata": {},
   "outputs": [
    {
     "data": {
      "text/plain": [
       "1018"
      ]
     },
     "execution_count": 55,
     "metadata": {},
     "output_type": "execute_result"
    }
   ],
   "source": [
    "w=data['Student ID'].value_counts().sum()\n",
    "w"
   ]
  },
  {
   "cell_type": "markdown",
   "id": "ac8adae2",
   "metadata": {},
   "source": [
    "### 3. find the average for reading score"
   ]
  },
  {
   "cell_type": "code",
   "execution_count": 56,
   "id": "ca32f24a",
   "metadata": {},
   "outputs": [
    {
     "data": {
      "text/plain": [
       "67.94597249508841"
      ]
     },
     "execution_count": 56,
     "metadata": {},
     "output_type": "execute_result"
    }
   ],
   "source": [
    "w=data['reading score'].mean()\n",
    "w"
   ]
  },
  {
   "cell_type": "markdown",
   "id": "5873728b",
   "metadata": {},
   "source": [
    "### 4.check the descriptive statistics for writing score"
   ]
  },
  {
   "cell_type": "code",
   "execution_count": 57,
   "id": "7d342f11",
   "metadata": {},
   "outputs": [
    {
     "data": {
      "text/plain": [
       "count    1018.000000\n",
       "mean       66.850688\n",
       "std        17.531186\n",
       "min         0.000000\n",
       "25%        57.000000\n",
       "50%        69.000000\n",
       "75%        78.000000\n",
       "max       100.000000\n",
       "Name: writing score, dtype: float64"
      ]
     },
     "execution_count": 57,
     "metadata": {},
     "output_type": "execute_result"
    }
   ],
   "source": [
    "data.describe()['writing score']"
   ]
  },
  {
   "cell_type": "markdown",
   "id": "be1afa9c",
   "metadata": {},
   "source": [
    "### 5.find how many students had completed the test"
   ]
  },
  {
   "cell_type": "code",
   "execution_count": 58,
   "id": "36bb0536",
   "metadata": {},
   "outputs": [
    {
     "data": {
      "text/plain": [
       "none         644\n",
       "completed    361\n",
       "0             13\n",
       "Name: test preparation course, dtype: int64"
      ]
     },
     "execution_count": 58,
     "metadata": {},
     "output_type": "execute_result"
    }
   ],
   "source": [
    "w=data['test preparation course'].value_counts()\n",
    "w"
   ]
  },
  {
   "cell_type": "markdown",
   "id": "e6e40a35",
   "metadata": {},
   "source": [
    "### 6.find the min score in math"
   ]
  },
  {
   "cell_type": "code",
   "execution_count": 59,
   "id": "d3f63120",
   "metadata": {},
   "outputs": [
    {
     "name": "stderr",
     "output_type": "stream",
     "text": [
      "C:\\Users\\vantl\\AppData\\Local\\Temp\\ipykernel_5300\\775371618.py:1: FutureWarning: The default value of numeric_only in DataFrame.min is deprecated. In a future version, it will default to False. In addition, specifying 'numeric_only=None' is deprecated. Select only valid columns or specify the value of numeric_only to silence this warning.\n",
      "  data.min()['math score']\n"
     ]
    },
    {
     "data": {
      "text/plain": [
       "0.0"
      ]
     },
     "execution_count": 59,
     "metadata": {},
     "output_type": "execute_result"
    }
   ],
   "source": [
    "data.min()['math score']"
   ]
  },
  {
   "cell_type": "markdown",
   "id": "768d6e6e",
   "metadata": {},
   "source": [
    "### 7.find the max score in writing"
   ]
  },
  {
   "cell_type": "code",
   "execution_count": 60,
   "id": "d89bc591",
   "metadata": {},
   "outputs": [
    {
     "name": "stderr",
     "output_type": "stream",
     "text": [
      "C:\\Users\\vantl\\AppData\\Local\\Temp\\ipykernel_5300\\1462445675.py:1: FutureWarning: The default value of numeric_only in DataFrame.max is deprecated. In a future version, it will default to False. In addition, specifying 'numeric_only=None' is deprecated. Select only valid columns or specify the value of numeric_only to silence this warning.\n",
      "  data.max()['writing score']\n"
     ]
    },
    {
     "data": {
      "text/plain": [
       "100.0"
      ]
     },
     "execution_count": 60,
     "metadata": {},
     "output_type": "execute_result"
    }
   ],
   "source": [
    "data.max()['writing score']"
   ]
  },
  {
   "cell_type": "markdown",
   "id": "a1ed2c0e",
   "metadata": {},
   "source": [
    "### 8.find the number of students by lunch"
   ]
  },
  {
   "cell_type": "code",
   "execution_count": 61,
   "id": "54a268fe",
   "metadata": {},
   "outputs": [
    {
     "data": {
      "text/plain": [
       "lunch\n",
       "0                13\n",
       "free/reduced    356\n",
       "standard        649\n",
       "Name: Student ID, dtype: int64"
      ]
     },
     "execution_count": 61,
     "metadata": {},
     "output_type": "execute_result"
    }
   ],
   "source": [
    "e=data.groupby('lunch').count()['Student ID']\n",
    "e"
   ]
  },
  {
   "cell_type": "markdown",
   "id": "8d6bd85d",
   "metadata": {},
   "source": [
    "### 9.find the average score for each by race/ethnicity."
   ]
  },
  {
   "cell_type": "code",
   "execution_count": 63,
   "id": "ba43dd39",
   "metadata": {},
   "outputs": [
    {
     "ename": "AttributeError",
     "evalue": "'list' object has no attribute 'list'",
     "output_type": "error",
     "traceback": [
      "\u001b[1;31m---------------------------------------------------------------------------\u001b[0m",
      "\u001b[1;31mAttributeError\u001b[0m                            Traceback (most recent call last)",
      "Cell \u001b[1;32mIn[63], line 3\u001b[0m\n\u001b[0;32m      1\u001b[0m \u001b[38;5;66;03m#find the total score\u001b[39;00m\n\u001b[1;32m----> 3\u001b[0m data\u001b[38;5;241m.\u001b[39mloc[[\u001b[38;5;124m\"\u001b[39m\u001b[38;5;124mTotal Score\u001b[39m\u001b[38;5;124m\"\u001b[39m]] \u001b[38;5;241m=\u001b[39m \u001b[43m[\u001b[49m\u001b[38;5;124;43m'\u001b[39;49m\u001b[38;5;124;43mmath score\u001b[39;49m\u001b[38;5;124;43m'\u001b[39;49m\u001b[43m,\u001b[49m\u001b[43m \u001b[49m\u001b[38;5;124;43m'\u001b[39;49m\u001b[38;5;124;43mreading score\u001b[39;49m\u001b[38;5;124;43m'\u001b[39;49m\u001b[43m,\u001b[49m\u001b[43m \u001b[49m\u001b[38;5;124;43m'\u001b[39;49m\u001b[38;5;124;43mwriting score\u001b[39;49m\u001b[38;5;124;43m'\u001b[39;49m\u001b[43m]\u001b[49m\u001b[38;5;241;43m.\u001b[39;49m\u001b[43mlist\u001b[49m()\n",
      "\u001b[1;31mAttributeError\u001b[0m: 'list' object has no attribute 'list'"
     ]
    }
   ],
   "source": [
    "#find the total score\n",
    "\n",
    "data.loc[[\"Total Score\"]] = ['math score', 'reading score', 'writing score'].list()"
   ]
  },
  {
   "cell_type": "markdown",
   "id": "1f45c2a5",
   "metadata": {},
   "source": [
    "### 10.create a count plot for parental level of education."
   ]
  },
  {
   "cell_type": "code",
   "execution_count": null,
   "id": "b1d7f374",
   "metadata": {},
   "outputs": [],
   "source": [
    "import seaborn as sns\n",
    "import matplotlib.pyplot as plt"
   ]
  },
  {
   "cell_type": "code",
   "execution_count": null,
   "id": "444a5818",
   "metadata": {},
   "outputs": [],
   "source": [
    "data['parental level of education'].value_counts()"
   ]
  },
  {
   "cell_type": "code",
   "execution_count": null,
   "id": "4f203723",
   "metadata": {},
   "outputs": [],
   "source": [
    "sns.countplot(x='parental level of education',data=data)"
   ]
  },
  {
   "cell_type": "markdown",
   "id": "3fd60a41",
   "metadata": {},
   "source": [
    "### 11. Find the total score of each student"
   ]
  },
  {
   "cell_type": "code",
   "execution_count": null,
   "id": "85133473",
   "metadata": {},
   "outputs": [],
   "source": []
  },
  {
   "cell_type": "markdown",
   "id": "a6a9b868",
   "metadata": {},
   "source": [
    "### 12.What is the average of total score for male and female students?"
   ]
  },
  {
   "cell_type": "markdown",
   "id": "1e74d848",
   "metadata": {},
   "source": [
    "### 13. What is the average of total score by gender and parental education level?"
   ]
  },
  {
   "cell_type": "markdown",
   "id": "c94590fd",
   "metadata": {},
   "source": [
    "### 14. What is the average math score by race/ethnicity?"
   ]
  },
  {
   "cell_type": "markdown",
   "id": "4ab96cbb",
   "metadata": {},
   "source": [
    "### 15.Find the number of Students by test preparation course"
   ]
  },
  {
   "cell_type": "markdown",
   "id": "ffe6375f",
   "metadata": {},
   "source": [
    "### 16. Find the average total score by test preparation cours"
   ]
  },
  {
   "cell_type": "markdown",
   "id": "266c3b23",
   "metadata": {},
   "source": [
    "### 17. create a new variable as, 'Score', and the values in the column should be the sum of all the three papers"
   ]
  },
  {
   "cell_type": "markdown",
   "id": "87a29427",
   "metadata": {},
   "source": [
    "### 18. create a new variable as, \" Percentage\", and find the percentage for the score "
   ]
  },
  {
   "cell_type": "markdown",
   "id": "2b635567",
   "metadata": {},
   "source": [
    "### 19. create a new variable called, 'status'. Inside this column, find the status as Pass \\ Fail, those who score above 40 % will pass the exam"
   ]
  },
  {
   "cell_type": "markdown",
   "id": "547daf37",
   "metadata": {},
   "source": [
    "### 20. create a pie chart using the status column"
   ]
  },
  {
   "cell_type": "code",
   "execution_count": null,
   "id": "eb08f1c0",
   "metadata": {},
   "outputs": [],
   "source": []
  }
 ],
 "metadata": {
  "kernelspec": {
   "display_name": "Python 3 (ipykernel)",
   "language": "python",
   "name": "python3"
  },
  "language_info": {
   "codemirror_mode": {
    "name": "ipython",
    "version": 3
   },
   "file_extension": ".py",
   "mimetype": "text/x-python",
   "name": "python",
   "nbconvert_exporter": "python",
   "pygments_lexer": "ipython3",
   "version": "3.10.9"
  }
 },
 "nbformat": 4,
 "nbformat_minor": 5
}
