{
 "cells": [
  {
   "cell_type": "code",
   "execution_count": 32,
   "id": "57f9e878",
   "metadata": {},
   "outputs": [
    {
     "data": {
      "text/html": [
       "<div>\n",
       "<style scoped>\n",
       "    .dataframe tbody tr th:only-of-type {\n",
       "        vertical-align: middle;\n",
       "    }\n",
       "\n",
       "    .dataframe tbody tr th {\n",
       "        vertical-align: top;\n",
       "    }\n",
       "\n",
       "    .dataframe thead th {\n",
       "        text-align: right;\n",
       "    }\n",
       "</style>\n",
       "<table border=\"1\" class=\"dataframe\">\n",
       "  <thead>\n",
       "    <tr style=\"text-align: right;\">\n",
       "      <th></th>\n",
       "      <th>Employee Name</th>\n",
       "      <th>Department</th>\n",
       "      <th>Salary</th>\n",
       "      <th>Age</th>\n",
       "      <th>Gender</th>\n",
       "      <th>Date of Join</th>\n",
       "    </tr>\n",
       "  </thead>\n",
       "  <tbody>\n",
       "    <tr>\n",
       "      <th>0</th>\n",
       "      <td>Wilson  K Adinolfi</td>\n",
       "      <td>Production</td>\n",
       "      <td>62506</td>\n",
       "      <td>49</td>\n",
       "      <td>Male</td>\n",
       "      <td>07-05-2011</td>\n",
       "    </tr>\n",
       "    <tr>\n",
       "      <th>1</th>\n",
       "      <td>Karthikeyan Ait Sidi</td>\n",
       "      <td>IT/IS</td>\n",
       "      <td>104437</td>\n",
       "      <td>55</td>\n",
       "      <td>Male</td>\n",
       "      <td>30-03-2015</td>\n",
       "    </tr>\n",
       "    <tr>\n",
       "      <th>2</th>\n",
       "      <td>Sarah Akinkuolie</td>\n",
       "      <td>Production</td>\n",
       "      <td>64955</td>\n",
       "      <td>49</td>\n",
       "      <td>Female</td>\n",
       "      <td>07-05-2011</td>\n",
       "    </tr>\n",
       "    <tr>\n",
       "      <th>3</th>\n",
       "      <td>Trina Alagbe</td>\n",
       "      <td>Production</td>\n",
       "      <td>64991</td>\n",
       "      <td>49</td>\n",
       "      <td>Female</td>\n",
       "      <td>01-07-2008</td>\n",
       "    </tr>\n",
       "    <tr>\n",
       "      <th>4</th>\n",
       "      <td>Carol Anderson</td>\n",
       "      <td>Production</td>\n",
       "      <td>50825</td>\n",
       "      <td>31</td>\n",
       "      <td>Female</td>\n",
       "      <td>07-11-2011</td>\n",
       "    </tr>\n",
       "    <tr>\n",
       "      <th>...</th>\n",
       "      <td>...</td>\n",
       "      <td>...</td>\n",
       "      <td>...</td>\n",
       "      <td>...</td>\n",
       "      <td>...</td>\n",
       "      <td>...</td>\n",
       "    </tr>\n",
       "    <tr>\n",
       "      <th>306</th>\n",
       "      <td>Jason Woodson</td>\n",
       "      <td>Production</td>\n",
       "      <td>65893</td>\n",
       "      <td>39</td>\n",
       "      <td>Male</td>\n",
       "      <td>07-07-2014</td>\n",
       "    </tr>\n",
       "    <tr>\n",
       "      <th>307</th>\n",
       "      <td>Catherine Ybarra</td>\n",
       "      <td>Production</td>\n",
       "      <td>48513</td>\n",
       "      <td>35</td>\n",
       "      <td>Female</td>\n",
       "      <td>09-02-2008</td>\n",
       "    </tr>\n",
       "    <tr>\n",
       "      <th>308</th>\n",
       "      <td>Jennifer Zamora</td>\n",
       "      <td>IT/IS</td>\n",
       "      <td>220450</td>\n",
       "      <td>42</td>\n",
       "      <td>Female</td>\n",
       "      <td>04-10-2010</td>\n",
       "    </tr>\n",
       "    <tr>\n",
       "      <th>309</th>\n",
       "      <td>Julia Zhou</td>\n",
       "      <td>IT/IS</td>\n",
       "      <td>89292</td>\n",
       "      <td>42</td>\n",
       "      <td>Female</td>\n",
       "      <td>30-03-2015</td>\n",
       "    </tr>\n",
       "    <tr>\n",
       "      <th>310</th>\n",
       "      <td>Colleen Zima</td>\n",
       "      <td>Production</td>\n",
       "      <td>45046</td>\n",
       "      <td>58</td>\n",
       "      <td>Female</td>\n",
       "      <td>29-09-2014</td>\n",
       "    </tr>\n",
       "  </tbody>\n",
       "</table>\n",
       "<p>311 rows × 6 columns</p>\n",
       "</div>"
      ],
      "text/plain": [
       "            Employee Name         Department  Salary  Age  Gender Date of Join\n",
       "0      Wilson  K Adinolfi  Production          62506   49   Male    07-05-2011\n",
       "1    Karthikeyan Ait Sidi              IT/IS  104437   55   Male    30-03-2015\n",
       "2        Sarah Akinkuolie  Production          64955   49  Female   07-05-2011\n",
       "3            Trina Alagbe  Production          64991   49  Female   01-07-2008\n",
       "4          Carol Anderson  Production          50825   31  Female   07-11-2011\n",
       "..                    ...                ...     ...  ...     ...          ...\n",
       "306         Jason Woodson  Production          65893   39   Male    07-07-2014\n",
       "307      Catherine Ybarra  Production          48513   35  Female   09-02-2008\n",
       "308       Jennifer Zamora              IT/IS  220450   42  Female   04-10-2010\n",
       "309            Julia Zhou              IT/IS   89292   42  Female   30-03-2015\n",
       "310          Colleen Zima  Production          45046   58  Female   29-09-2014\n",
       "\n",
       "[311 rows x 6 columns]"
      ]
     },
     "execution_count": 32,
     "metadata": {},
     "output_type": "execute_result"
    }
   ],
   "source": [
    "import pandas as pd\n",
    "sales = pd.read_excel('Human resource.xlsx')\n",
    "sales"
   ]
  },
  {
   "cell_type": "code",
   "execution_count": 59,
   "id": "50e21212",
   "metadata": {},
   "outputs": [
    {
     "data": {
      "text/html": [
       "<div>\n",
       "<style scoped>\n",
       "    .dataframe tbody tr th:only-of-type {\n",
       "        vertical-align: middle;\n",
       "    }\n",
       "\n",
       "    .dataframe tbody tr th {\n",
       "        vertical-align: top;\n",
       "    }\n",
       "\n",
       "    .dataframe thead th {\n",
       "        text-align: right;\n",
       "    }\n",
       "</style>\n",
       "<table border=\"1\" class=\"dataframe\">\n",
       "  <thead>\n",
       "    <tr style=\"text-align: right;\">\n",
       "      <th></th>\n",
       "      <th>Employee Name</th>\n",
       "      <th>Department</th>\n",
       "      <th>Salary</th>\n",
       "      <th>Age</th>\n",
       "      <th>Gender</th>\n",
       "      <th>Date of Join</th>\n",
       "    </tr>\n",
       "  </thead>\n",
       "  <tbody>\n",
       "    <tr>\n",
       "      <th>0</th>\n",
       "      <td>Wilson  K Adinolfi</td>\n",
       "      <td>Production</td>\n",
       "      <td>62506</td>\n",
       "      <td>49</td>\n",
       "      <td>Male</td>\n",
       "      <td>07-05-2011</td>\n",
       "    </tr>\n",
       "    <tr>\n",
       "      <th>1</th>\n",
       "      <td>Karthikeyan Ait Sidi</td>\n",
       "      <td>IT/IS</td>\n",
       "      <td>104437</td>\n",
       "      <td>55</td>\n",
       "      <td>Male</td>\n",
       "      <td>30-03-2015</td>\n",
       "    </tr>\n",
       "    <tr>\n",
       "      <th>2</th>\n",
       "      <td>Sarah Akinkuolie</td>\n",
       "      <td>Production</td>\n",
       "      <td>64955</td>\n",
       "      <td>49</td>\n",
       "      <td>Female</td>\n",
       "      <td>07-05-2011</td>\n",
       "    </tr>\n",
       "    <tr>\n",
       "      <th>3</th>\n",
       "      <td>Trina Alagbe</td>\n",
       "      <td>Production</td>\n",
       "      <td>64991</td>\n",
       "      <td>49</td>\n",
       "      <td>Female</td>\n",
       "      <td>01-07-2008</td>\n",
       "    </tr>\n",
       "    <tr>\n",
       "      <th>4</th>\n",
       "      <td>Carol Anderson</td>\n",
       "      <td>Production</td>\n",
       "      <td>50825</td>\n",
       "      <td>31</td>\n",
       "      <td>Female</td>\n",
       "      <td>07-11-2011</td>\n",
       "    </tr>\n",
       "  </tbody>\n",
       "</table>\n",
       "</div>"
      ],
      "text/plain": [
       "          Employee Name         Department  Salary  Age  Gender Date of Join\n",
       "0    Wilson  K Adinolfi  Production          62506   49   Male    07-05-2011\n",
       "1  Karthikeyan Ait Sidi              IT/IS  104437   55   Male    30-03-2015\n",
       "2      Sarah Akinkuolie  Production          64955   49  Female   07-05-2011\n",
       "3          Trina Alagbe  Production          64991   49  Female   01-07-2008\n",
       "4        Carol Anderson  Production          50825   31  Female   07-11-2011"
      ]
     },
     "execution_count": 59,
     "metadata": {},
     "output_type": "execute_result"
    }
   ],
   "source": [
    "sales.head()"
   ]
  },
  {
   "cell_type": "code",
   "execution_count": 60,
   "id": "287dea9f",
   "metadata": {},
   "outputs": [
    {
     "data": {
      "text/html": [
       "<div>\n",
       "<style scoped>\n",
       "    .dataframe tbody tr th:only-of-type {\n",
       "        vertical-align: middle;\n",
       "    }\n",
       "\n",
       "    .dataframe tbody tr th {\n",
       "        vertical-align: top;\n",
       "    }\n",
       "\n",
       "    .dataframe thead th {\n",
       "        text-align: right;\n",
       "    }\n",
       "</style>\n",
       "<table border=\"1\" class=\"dataframe\">\n",
       "  <thead>\n",
       "    <tr style=\"text-align: right;\">\n",
       "      <th></th>\n",
       "      <th>Employee Name</th>\n",
       "      <th>Department</th>\n",
       "      <th>Salary</th>\n",
       "      <th>Age</th>\n",
       "      <th>Gender</th>\n",
       "      <th>Date of Join</th>\n",
       "    </tr>\n",
       "  </thead>\n",
       "  <tbody>\n",
       "    <tr>\n",
       "      <th>306</th>\n",
       "      <td>Jason Woodson</td>\n",
       "      <td>Production</td>\n",
       "      <td>65893</td>\n",
       "      <td>39</td>\n",
       "      <td>Male</td>\n",
       "      <td>07-07-2014</td>\n",
       "    </tr>\n",
       "    <tr>\n",
       "      <th>307</th>\n",
       "      <td>Catherine Ybarra</td>\n",
       "      <td>Production</td>\n",
       "      <td>48513</td>\n",
       "      <td>35</td>\n",
       "      <td>Female</td>\n",
       "      <td>09-02-2008</td>\n",
       "    </tr>\n",
       "    <tr>\n",
       "      <th>308</th>\n",
       "      <td>Jennifer Zamora</td>\n",
       "      <td>IT/IS</td>\n",
       "      <td>220450</td>\n",
       "      <td>42</td>\n",
       "      <td>Female</td>\n",
       "      <td>04-10-2010</td>\n",
       "    </tr>\n",
       "    <tr>\n",
       "      <th>309</th>\n",
       "      <td>Julia Zhou</td>\n",
       "      <td>IT/IS</td>\n",
       "      <td>89292</td>\n",
       "      <td>42</td>\n",
       "      <td>Female</td>\n",
       "      <td>30-03-2015</td>\n",
       "    </tr>\n",
       "    <tr>\n",
       "      <th>310</th>\n",
       "      <td>Colleen Zima</td>\n",
       "      <td>Production</td>\n",
       "      <td>45046</td>\n",
       "      <td>58</td>\n",
       "      <td>Female</td>\n",
       "      <td>29-09-2014</td>\n",
       "    </tr>\n",
       "  </tbody>\n",
       "</table>\n",
       "</div>"
      ],
      "text/plain": [
       "        Employee Name         Department  Salary  Age  Gender Date of Join\n",
       "306     Jason Woodson  Production          65893   39   Male    07-07-2014\n",
       "307  Catherine Ybarra  Production          48513   35  Female   09-02-2008\n",
       "308   Jennifer Zamora              IT/IS  220450   42  Female   04-10-2010\n",
       "309        Julia Zhou              IT/IS   89292   42  Female   30-03-2015\n",
       "310      Colleen Zima  Production          45046   58  Female   29-09-2014"
      ]
     },
     "execution_count": 60,
     "metadata": {},
     "output_type": "execute_result"
    }
   ],
   "source": [
    "sales.tail()"
   ]
  },
  {
   "cell_type": "markdown",
   "id": "ac26b40e",
   "metadata": {},
   "source": [
    "1st set of questions\n",
    "\n",
    "Find the Total Salary\n",
    "\n",
    "Find the average salary given in the company\n",
    "\n",
    "Find the Maximum salary\n",
    "\n",
    "Find the minimum Salary\n",
    "\n",
    "Find the range of salary\n",
    "\n",
    "Find the descriptive Statistics for the variable Salary and identify the Variance\n",
    "\n",
    "Find the average age of employees\n",
    "\n",
    "Find the minimum age of employees\n",
    "\n",
    "Find the maximum age of employees\n",
    "\n",
    "Find the descriptive Statistics for the variable Age and identify the Quartiles\n",
    "\n",
    "Find the count of Gender\n",
    "\n",
    "Find the Frequency of gender in a Bar Chart. modify the chart\n",
    "\n",
    "obtain the percentage value of number of male and female employees\n",
    "\n",
    "obtain the percentage value of number of male and female employees in a pie chart. modify the chart\n"
   ]
  },
  {
   "cell_type": "markdown",
   "id": "0aa58215",
   "metadata": {},
   "source": [
    "### Find the Total Salary"
   ]
  },
  {
   "cell_type": "code",
   "execution_count": 33,
   "id": "0bc1e52a",
   "metadata": {},
   "outputs": [
    {
     "data": {
      "text/plain": [
       "21465433"
      ]
     },
     "execution_count": 33,
     "metadata": {},
     "output_type": "execute_result"
    }
   ],
   "source": [
    "b=sales['Salary'].sum()\n",
    "b"
   ]
  },
  {
   "cell_type": "markdown",
   "id": "dcd2897d",
   "metadata": {},
   "source": [
    "### Find the average salary given in the company"
   ]
  },
  {
   "cell_type": "code",
   "execution_count": 34,
   "id": "c752b140",
   "metadata": {},
   "outputs": [
    {
     "data": {
      "text/plain": [
       "69020.6848874598"
      ]
     },
     "execution_count": 34,
     "metadata": {},
     "output_type": "execute_result"
    }
   ],
   "source": [
    "b=sales['Salary'].mean()\n",
    "b"
   ]
  },
  {
   "cell_type": "markdown",
   "id": "133d3296",
   "metadata": {},
   "source": [
    "### Find the Maximum salary"
   ]
  },
  {
   "cell_type": "code",
   "execution_count": 35,
   "id": "4c0fd011",
   "metadata": {},
   "outputs": [
    {
     "data": {
      "text/plain": [
       "250000"
      ]
     },
     "execution_count": 35,
     "metadata": {},
     "output_type": "execute_result"
    }
   ],
   "source": [
    "b=sales['Salary'].max()\n",
    "b"
   ]
  },
  {
   "cell_type": "markdown",
   "id": "5978bd72",
   "metadata": {},
   "source": [
    "### Find the minimum Salary"
   ]
  },
  {
   "cell_type": "code",
   "execution_count": 36,
   "id": "ec4a8480",
   "metadata": {},
   "outputs": [
    {
     "data": {
      "text/plain": [
       "45046"
      ]
     },
     "execution_count": 36,
     "metadata": {},
     "output_type": "execute_result"
    }
   ],
   "source": [
    "b=sales['Salary'].min()\n",
    "b"
   ]
  },
  {
   "cell_type": "markdown",
   "id": "3ef58d6f",
   "metadata": {},
   "source": [
    "###  Find the range of salary"
   ]
  },
  {
   "cell_type": "code",
   "execution_count": 37,
   "id": "53283030",
   "metadata": {},
   "outputs": [
    {
     "data": {
      "text/plain": [
       "204954"
      ]
     },
     "execution_count": 37,
     "metadata": {},
     "output_type": "execute_result"
    }
   ],
   "source": [
    "b=250000-45046\n",
    "b"
   ]
  },
  {
   "cell_type": "markdown",
   "id": "9e364e50",
   "metadata": {},
   "source": [
    "### Find the descriptive Statistics for the variable Salary and identify the Varience"
   ]
  },
  {
   "cell_type": "code",
   "execution_count": 38,
   "id": "7c1fe9ec",
   "metadata": {},
   "outputs": [
    {
     "name": "stderr",
     "output_type": "stream",
     "text": [
      "C:\\Users\\vantl\\AppData\\Local\\Temp\\ipykernel_18392\\1859069097.py:1: FutureWarning: The default value of numeric_only in DataFrame.var is deprecated. In a future version, it will default to False. In addition, specifying 'numeric_only=None' is deprecated. Select only valid columns or specify the value of numeric_only to silence this warning.\n",
      "  sales.var()\n"
     ]
    },
    {
     "data": {
      "text/plain": [
       "Salary    6.328564e+08\n",
       "Age       1.163185e+02\n",
       "dtype: float64"
      ]
     },
     "execution_count": 38,
     "metadata": {},
     "output_type": "execute_result"
    }
   ],
   "source": [
    "sales.var()"
   ]
  },
  {
   "cell_type": "code",
   "execution_count": 39,
   "id": "200f0e98",
   "metadata": {},
   "outputs": [
    {
     "data": {
      "text/plain": [
       "632856381.6100614"
      ]
     },
     "execution_count": 39,
     "metadata": {},
     "output_type": "execute_result"
    }
   ],
   "source": [
    "#identify the varience\n",
    "sales['Salary'].var()"
   ]
  },
  {
   "cell_type": "markdown",
   "id": "57fb4ab5",
   "metadata": {},
   "source": [
    "### Find the average age of employees"
   ]
  },
  {
   "cell_type": "code",
   "execution_count": 40,
   "id": "52c1c508",
   "metadata": {},
   "outputs": [
    {
     "data": {
      "text/plain": [
       "42.02893890675241"
      ]
     },
     "execution_count": 40,
     "metadata": {},
     "output_type": "execute_result"
    }
   ],
   "source": [
    "ab=sales['Age'].mean()\n",
    "ab"
   ]
  },
  {
   "cell_type": "markdown",
   "id": "bda4a83a",
   "metadata": {},
   "source": [
    "### Find the minimum age of employees "
   ]
  },
  {
   "cell_type": "code",
   "execution_count": 41,
   "id": "ef7e1b90",
   "metadata": {},
   "outputs": [
    {
     "data": {
      "text/plain": [
       "24"
      ]
     },
     "execution_count": 41,
     "metadata": {},
     "output_type": "execute_result"
    }
   ],
   "source": [
    "ab=sales['Age'].min()\n",
    "ab"
   ]
  },
  {
   "cell_type": "markdown",
   "id": "d311e847",
   "metadata": {},
   "source": [
    "### Find the maximum age of employees"
   ]
  },
  {
   "cell_type": "code",
   "execution_count": 42,
   "id": "da32177c",
   "metadata": {},
   "outputs": [
    {
     "data": {
      "text/plain": [
       "60"
      ]
     },
     "execution_count": 42,
     "metadata": {},
     "output_type": "execute_result"
    }
   ],
   "source": [
    "ab=sales['Age'].max()\n",
    "ab"
   ]
  },
  {
   "cell_type": "markdown",
   "id": "495c3c36",
   "metadata": {},
   "source": [
    "### Find the descriptive Statistics for the variable Age and identify the Quartiles "
   ]
  },
  {
   "cell_type": "code",
   "execution_count": 43,
   "id": "4b9191a1",
   "metadata": {},
   "outputs": [
    {
     "name": "stderr",
     "output_type": "stream",
     "text": [
      "C:\\Users\\vantl\\AppData\\Local\\Temp\\ipykernel_18392\\3036173917.py:1: FutureWarning: The default value of numeric_only in DataFrame.quantile is deprecated. In a future version, it will default to False. Select only valid columns or specify the value of numeric_only to silence this warning.\n",
      "  x=sales.quantile()\n"
     ]
    },
    {
     "data": {
      "text/plain": [
       "Salary    62810.0\n",
       "Age          42.0\n",
       "Name: 0.5, dtype: float64"
      ]
     },
     "execution_count": 43,
     "metadata": {},
     "output_type": "execute_result"
    }
   ],
   "source": [
    "x=sales.quantile()\n",
    "x"
   ]
  },
  {
   "cell_type": "code",
   "execution_count": 44,
   "id": "f78b051d",
   "metadata": {},
   "outputs": [
    {
     "data": {
      "text/html": [
       "<div>\n",
       "<style scoped>\n",
       "    .dataframe tbody tr th:only-of-type {\n",
       "        vertical-align: middle;\n",
       "    }\n",
       "\n",
       "    .dataframe tbody tr th {\n",
       "        vertical-align: top;\n",
       "    }\n",
       "\n",
       "    .dataframe thead th {\n",
       "        text-align: right;\n",
       "    }\n",
       "</style>\n",
       "<table border=\"1\" class=\"dataframe\">\n",
       "  <thead>\n",
       "    <tr style=\"text-align: right;\">\n",
       "      <th></th>\n",
       "      <th>Salary</th>\n",
       "      <th>Age</th>\n",
       "    </tr>\n",
       "  </thead>\n",
       "  <tbody>\n",
       "    <tr>\n",
       "      <th>count</th>\n",
       "      <td>311.000000</td>\n",
       "      <td>311.000000</td>\n",
       "    </tr>\n",
       "    <tr>\n",
       "      <th>mean</th>\n",
       "      <td>69020.684887</td>\n",
       "      <td>42.028939</td>\n",
       "    </tr>\n",
       "    <tr>\n",
       "      <th>std</th>\n",
       "      <td>25156.636930</td>\n",
       "      <td>10.785106</td>\n",
       "    </tr>\n",
       "    <tr>\n",
       "      <th>min</th>\n",
       "      <td>45046.000000</td>\n",
       "      <td>24.000000</td>\n",
       "    </tr>\n",
       "    <tr>\n",
       "      <th>25%</th>\n",
       "      <td>55501.500000</td>\n",
       "      <td>33.000000</td>\n",
       "    </tr>\n",
       "    <tr>\n",
       "      <th>50%</th>\n",
       "      <td>62810.000000</td>\n",
       "      <td>42.000000</td>\n",
       "    </tr>\n",
       "    <tr>\n",
       "      <th>75%</th>\n",
       "      <td>72036.000000</td>\n",
       "      <td>51.500000</td>\n",
       "    </tr>\n",
       "    <tr>\n",
       "      <th>max</th>\n",
       "      <td>250000.000000</td>\n",
       "      <td>60.000000</td>\n",
       "    </tr>\n",
       "  </tbody>\n",
       "</table>\n",
       "</div>"
      ],
      "text/plain": [
       "              Salary         Age\n",
       "count     311.000000  311.000000\n",
       "mean    69020.684887   42.028939\n",
       "std     25156.636930   10.785106\n",
       "min     45046.000000   24.000000\n",
       "25%     55501.500000   33.000000\n",
       "50%     62810.000000   42.000000\n",
       "75%     72036.000000   51.500000\n",
       "max    250000.000000   60.000000"
      ]
     },
     "execution_count": 44,
     "metadata": {},
     "output_type": "execute_result"
    }
   ],
   "source": [
    "sales.describe()"
   ]
  },
  {
   "cell_type": "code",
   "execution_count": 45,
   "id": "379bd9c3",
   "metadata": {},
   "outputs": [
    {
     "data": {
      "text/plain": [
       "33.0"
      ]
     },
     "execution_count": 45,
     "metadata": {},
     "output_type": "execute_result"
    }
   ],
   "source": [
    "#identify the quartiles\n",
    "x=sales['Age'].quantile(0.25)\n",
    "x"
   ]
  },
  {
   "cell_type": "code",
   "execution_count": 46,
   "id": "5dc3aeb6",
   "metadata": {},
   "outputs": [
    {
     "data": {
      "text/plain": [
       "42.0"
      ]
     },
     "execution_count": 46,
     "metadata": {},
     "output_type": "execute_result"
    }
   ],
   "source": [
    "x=sales['Age'].quantile(0.50)\n",
    "x"
   ]
  },
  {
   "cell_type": "markdown",
   "id": "265faaec",
   "metadata": {},
   "source": [
    "### Find the count of Gender"
   ]
  },
  {
   "cell_type": "code",
   "execution_count": 47,
   "id": "a34f3fd8",
   "metadata": {},
   "outputs": [
    {
     "data": {
      "text/plain": [
       "Female    176\n",
       "Male      135\n",
       "Name: Gender, dtype: int64"
      ]
     },
     "execution_count": 47,
     "metadata": {},
     "output_type": "execute_result"
    }
   ],
   "source": [
    "sales['Gender'].value_counts()\n"
   ]
  },
  {
   "cell_type": "markdown",
   "id": "978c0d70",
   "metadata": {},
   "source": [
    "### Find the Frequency of gender in a Bar Chart. modify the chart"
   ]
  },
  {
   "cell_type": "code",
   "execution_count": 48,
   "id": "99061f2b",
   "metadata": {},
   "outputs": [
    {
     "data": {
      "image/png": "[encoded data removed]",
      "text/plain": [
       "<Figure size 640x480 with 1 Axes>"
      ]
     },
     "metadata": {},
     "output_type": "display_data"
    }
   ],
   "source": [
    "ab=sales['Gender'].value_counts(normalize=True).plot(kind='bar')"
   ]
  },
  {
   "cell_type": "markdown",
   "id": "028c04e3",
   "metadata": {},
   "source": [
    "### obtain the percentage value of number of male and female employees "
   ]
  },
  {
   "cell_type": "code",
   "execution_count": 49,
   "id": "2acac9ed",
   "metadata": {},
   "outputs": [
    {
     "data": {
      "text/plain": [
       "Female    0.565916\n",
       "Male      0.434084\n",
       "Name: Gender, dtype: float64"
      ]
     },
     "execution_count": 49,
     "metadata": {},
     "output_type": "execute_result"
    }
   ],
   "source": [
    "g=sales['Gender'].value_counts(normalize=True)\n",
    "g"
   ]
  },
  {
   "cell_type": "markdown",
   "id": "8a1b6437",
   "metadata": {},
   "source": [
    "### obtain the percentage value of number of male and female employees in a pie chart. modify the chart"
   ]
  },
  {
   "cell_type": "code",
   "execution_count": 50,
   "id": "970d7c1b",
   "metadata": {},
   "outputs": [
    {
     "data": {
      "image/png": "[encoded data removed]",
      "text/plain": [
       "<Figure size 640x480 with 1 Axes>"
      ]
     },
     "metadata": {},
     "output_type": "display_data"
    }
   ],
   "source": [
    "ab=sales['Gender'].value_counts(normalize=True).plot(kind='pie',autopct='%1.2f%%')\n"
   ]
  },
  {
   "cell_type": "markdown",
   "id": "130b94f5",
   "metadata": {},
   "source": [
    "2nd set of questions"
   ]
  },
  {
   "cell_type": "markdown",
   "id": "d8afe4ec",
   "metadata": {},
   "source": [
    "Find the average age of employees in each department\n",
    "\n",
    "Find the minimum age of employees in each department\n",
    "\n",
    "Find the maximum age of employees in each department\n",
    "\n",
    "Find the Total Salary of each department\n",
    "\n",
    "Find the minimum salary of each department\n",
    "\n",
    "Find the maximum salary of each department\n",
    "\n",
    "Find the average salary of each department using clustered column chart\n",
    "\n",
    "Find the employee count by department and gender using stacked bar chart\n"
   ]
  },
  {
   "cell_type": "markdown",
   "id": "f804f3ad",
   "metadata": {},
   "source": [
    "### Find the average age of employees in each department"
   ]
  },
  {
   "cell_type": "code",
   "execution_count": 51,
   "id": "e0c0daec",
   "metadata": {},
   "outputs": [
    {
     "name": "stderr",
     "output_type": "stream",
     "text": [
      "C:\\Users\\vantl\\AppData\\Local\\Temp\\ipykernel_18392\\1601943493.py:1: FutureWarning: The default value of numeric_only in DataFrameGroupBy.mean is deprecated. In a future version, numeric_only will default to False. Either specify numeric_only or select only columns which should be valid for the function.\n",
      "  g=sales.groupby('Department').mean()['Age']\n"
     ]
    },
    {
     "data": {
      "text/plain": [
       "Department\n",
       "Admin Offices           45.555556\n",
       "Executive Office        36.000000\n",
       "IT/IS                   42.360000\n",
       "Production              42.004785\n",
       "Sales                   41.516129\n",
       "Software Engineering    40.090909\n",
       "Name: Age, dtype: float64"
      ]
     },
     "execution_count": 51,
     "metadata": {},
     "output_type": "execute_result"
    }
   ],
   "source": [
    "g=sales.groupby('Department').mean()['Age']\n",
    "g"
   ]
  },
  {
   "cell_type": "markdown",
   "id": "ab43cba3",
   "metadata": {},
   "source": [
    "### Find the minimum age of employees in each department"
   ]
  },
  {
   "cell_type": "code",
   "execution_count": 52,
   "id": "635f8405",
   "metadata": {},
   "outputs": [
    {
     "data": {
      "text/plain": [
       "Department\n",
       "Admin Offices           25\n",
       "Executive Office        36\n",
       "IT/IS                   24\n",
       "Production              24\n",
       "Sales                   25\n",
       "Software Engineering    25\n",
       "Name: Age, dtype: int64"
      ]
     },
     "execution_count": 52,
     "metadata": {},
     "output_type": "execute_result"
    }
   ],
   "source": [
    "g=sales.groupby('Department').min()['Age']\n",
    "g"
   ]
  },
  {
   "cell_type": "markdown",
   "id": "6da7f550",
   "metadata": {},
   "source": [
    "### Find the maximum age of employees in each department"
   ]
  },
  {
   "cell_type": "code",
   "execution_count": 53,
   "id": "8fd27da6",
   "metadata": {},
   "outputs": [
    {
     "data": {
      "text/plain": [
       "Department\n",
       "Admin Offices           58\n",
       "Executive Office        36\n",
       "IT/IS                   60\n",
       "Production              60\n",
       "Sales                   59\n",
       "Software Engineering    56\n",
       "Name: Age, dtype: int64"
      ]
     },
     "execution_count": 53,
     "metadata": {},
     "output_type": "execute_result"
    }
   ],
   "source": [
    "x=sales.groupby('Department').max()['Age']\n",
    "x"
   ]
  },
  {
   "cell_type": "markdown",
   "id": "15a5b5b5",
   "metadata": {},
   "source": [
    "### Find the Total Salary of each department"
   ]
  },
  {
   "cell_type": "code",
   "execution_count": 54,
   "id": "67df5a06",
   "metadata": {},
   "outputs": [
    {
     "name": "stderr",
     "output_type": "stream",
     "text": [
      "C:\\Users\\vantl\\AppData\\Local\\Temp\\ipykernel_18392\\935008839.py:1: FutureWarning: The default value of numeric_only in DataFrameGroupBy.sum is deprecated. In a future version, numeric_only will default to False. Either specify numeric_only or select only columns which should be valid for the function.\n",
      "  r=sales.groupby('Department').sum()['Salary']\n"
     ]
    },
    {
     "data": {
      "text/plain": [
       "Department\n",
       "Admin Offices             646127\n",
       "Executive Office          250000\n",
       "IT/IS                    4853232\n",
       "Production              12530291\n",
       "Sales                    2140899\n",
       "Software Engineering     1044884\n",
       "Name: Salary, dtype: int64"
      ]
     },
     "execution_count": 54,
     "metadata": {},
     "output_type": "execute_result"
    }
   ],
   "source": [
    "r=sales.groupby('Department').sum()['Salary']\n",
    "r"
   ]
  },
  {
   "cell_type": "markdown",
   "id": "aabe8087",
   "metadata": {},
   "source": [
    "### Find the minimum salary of each department"
   ]
  },
  {
   "cell_type": "code",
   "execution_count": 55,
   "id": "fb57a2e7",
   "metadata": {},
   "outputs": [
    {
     "data": {
      "text/plain": [
       "Department\n",
       "Admin Offices            49920\n",
       "Executive Office        250000\n",
       "IT/IS                    50178\n",
       "Production               45046\n",
       "Sales                    55875\n",
       "Software Engineering     77692\n",
       "Name: Salary, dtype: int64"
      ]
     },
     "execution_count": 55,
     "metadata": {},
     "output_type": "execute_result"
    }
   ],
   "source": [
    "r=sales.groupby('Department').min()['Salary']\n",
    "r"
   ]
  },
  {
   "cell_type": "markdown",
   "id": "70c429e5",
   "metadata": {},
   "source": [
    "### Find the maximum salary of each department"
   ]
  },
  {
   "cell_type": "code",
   "execution_count": 56,
   "id": "d112099f",
   "metadata": {},
   "outputs": [
    {
     "data": {
      "text/plain": [
       "Department\n",
       "Admin Offices           106367\n",
       "Executive Office        250000\n",
       "IT/IS                   220450\n",
       "Production              170500\n",
       "Sales                   180000\n",
       "Software Engineering    108987\n",
       "Name: Salary, dtype: int64"
      ]
     },
     "execution_count": 56,
     "metadata": {},
     "output_type": "execute_result"
    }
   ],
   "source": [
    "r=sales.groupby('Department').max()['Salary']\n",
    "r"
   ]
  },
  {
   "cell_type": "markdown",
   "id": "d49c474e",
   "metadata": {},
   "source": [
    "### Find the average salary of each department using clustered column chart"
   ]
  },
  {
   "cell_type": "code",
   "execution_count": 57,
   "id": "f4805fcd",
   "metadata": {},
   "outputs": [
    {
     "name": "stderr",
     "output_type": "stream",
     "text": [
      "C:\\Users\\vantl\\AppData\\Local\\Temp\\ipykernel_18392\\1045143445.py:1: FutureWarning: The default value of numeric_only in DataFrameGroupBy.mean is deprecated. In a future version, numeric_only will default to False. Either specify numeric_only or select only columns which should be valid for the function.\n",
      "  f=sales.groupby('Department').mean()['Salary'].plot(kind='bar')\n"
     ]
    },
    {
     "data": {
      "text/plain": [
       "<Axes: xlabel='Department'>"
      ]
     },
     "execution_count": 57,
     "metadata": {},
     "output_type": "execute_result"
    },
    {
     "data": {
      "image/png": "[encoded data removed]",
      "text/plain": [
       "<Figure size 640x480 with 1 Axes>"
      ]
     },
     "metadata": {},
     "output_type": "display_data"
    }
   ],
   "source": [
    "f=sales.groupby('Department').mean()['Salary'].plot(kind='bar')\n",
    "f"
   ]
  },
  {
   "cell_type": "markdown",
   "id": "42cbae9a",
   "metadata": {},
   "source": [
    "### Find the employee count by department and gender using stacked bar chart"
   ]
  },
  {
   "cell_type": "code",
   "execution_count": 58,
   "id": "a5d6f936",
   "metadata": {},
   "outputs": [
    {
     "data": {
      "text/plain": [
       "<Axes: xlabel='Department,Gender'>"
      ]
     },
     "execution_count": 58,
     "metadata": {},
     "output_type": "execute_result"
    },
    {
     "data": {
      "image/png": "[encoded data removed]",
      "text/plain": [
       "<Figure size 640x480 with 1 Axes>"
      ]
     },
     "metadata": {},
     "output_type": "display_data"
    }
   ],
   "source": [
    "a=sales.groupby(['Department','Gender']).count()['Employee Name'].plot(kind='bar')\n",
    "a"
   ]
  },
  {
   "cell_type": "code",
   "execution_count": null,
   "id": "45ad2c61",
   "metadata": {},
   "outputs": [],
   "source": []
  }
 ],
 "metadata": {
  "kernelspec": {
   "display_name": "Python 3 (ipykernel)",
   "language": "python",
   "name": "python3"
  },
  "language_info": {
   "codemirror_mode": {
    "name": "ipython",
    "version": 3
   },
   "file_extension": ".py",
   "mimetype": "text/x-python",
   "name": "python",
   "nbconvert_exporter": "python",
   "pygments_lexer": "ipython3",
   "version": "3.10.9"
  }
 },
 "nbformat": 4,
 "nbformat_minor": 5
}
