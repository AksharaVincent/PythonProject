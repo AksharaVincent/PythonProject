{
 "cells": [
  {
   "cell_type": "code",
   "execution_count": 25,
   "id": "a01dc6d8",
   "metadata": {},
   "outputs": [],
   "source": [
    "import pandas as pd\n",
    "import seaborn as sns\n",
    "import numpy as np\n",
    "import matplotlib.pyplot as plt"
   ]
  },
  {
   "cell_type": "code",
   "execution_count": 26,
   "id": "64178a04",
   "metadata": {},
   "outputs": [
    {
     "data": {
      "text/html": [
       "<div>\n",
       "<style scoped>\n",
       "    .dataframe tbody tr th:only-of-type {\n",
       "        vertical-align: middle;\n",
       "    }\n",
       "\n",
       "    .dataframe tbody tr th {\n",
       "        vertical-align: top;\n",
       "    }\n",
       "\n",
       "    .dataframe thead th {\n",
       "        text-align: right;\n",
       "    }\n",
       "</style>\n",
       "<table border=\"1\" class=\"dataframe\">\n",
       "  <thead>\n",
       "    <tr style=\"text-align: right;\">\n",
       "      <th></th>\n",
       "      <th>Restaurant ID</th>\n",
       "      <th>Restaurant Name</th>\n",
       "      <th>Country</th>\n",
       "      <th>City</th>\n",
       "      <th>Address</th>\n",
       "      <th>Locality</th>\n",
       "      <th>Locality Verbose</th>\n",
       "      <th>Longitude</th>\n",
       "      <th>Latitude</th>\n",
       "      <th>Cuisines</th>\n",
       "      <th>...</th>\n",
       "      <th>Has Table booking</th>\n",
       "      <th>Has Online delivery</th>\n",
       "      <th>Is delivering now</th>\n",
       "      <th>Switch to order menu</th>\n",
       "      <th>Price range</th>\n",
       "      <th>Aggregate rating</th>\n",
       "      <th>Rating color</th>\n",
       "      <th>Rating text</th>\n",
       "      <th>Votes</th>\n",
       "      <th>Country.1</th>\n",
       "    </tr>\n",
       "  </thead>\n",
       "  <tbody>\n",
       "    <tr>\n",
       "      <th>0</th>\n",
       "      <td>6317637</td>\n",
       "      <td>Le Petit Souffle</td>\n",
       "      <td>Phillipines</td>\n",
       "      <td>Makati City</td>\n",
       "      <td>Third Floor, Century City Mall, Kalayaan Avenu...</td>\n",
       "      <td>Century City Mall, Poblacion, Makati City</td>\n",
       "      <td>Century City Mall, Poblacion, Makati City, Mak...</td>\n",
       "      <td>121.027535</td>\n",
       "      <td>14.565443</td>\n",
       "      <td>French, Japanese, Desserts</td>\n",
       "      <td>...</td>\n",
       "      <td>Yes</td>\n",
       "      <td>No</td>\n",
       "      <td>No</td>\n",
       "      <td>No</td>\n",
       "      <td>3</td>\n",
       "      <td>4.8</td>\n",
       "      <td>Dark Green</td>\n",
       "      <td>Excellent</td>\n",
       "      <td>314</td>\n",
       "      <td>Phillipines</td>\n",
       "    </tr>\n",
       "    <tr>\n",
       "      <th>1</th>\n",
       "      <td>6304287</td>\n",
       "      <td>Izakaya Kikufuji</td>\n",
       "      <td>Phillipines</td>\n",
       "      <td>Makati City</td>\n",
       "      <td>Little Tokyo, 2277 Chino Roces Avenue, Legaspi...</td>\n",
       "      <td>Little Tokyo, Legaspi Village, Makati City</td>\n",
       "      <td>Little Tokyo, Legaspi Village, Makati City, Ma...</td>\n",
       "      <td>121.014101</td>\n",
       "      <td>14.553708</td>\n",
       "      <td>Japanese</td>\n",
       "      <td>...</td>\n",
       "      <td>Yes</td>\n",
       "      <td>No</td>\n",
       "      <td>No</td>\n",
       "      <td>No</td>\n",
       "      <td>3</td>\n",
       "      <td>4.5</td>\n",
       "      <td>Dark Green</td>\n",
       "      <td>Excellent</td>\n",
       "      <td>591</td>\n",
       "      <td>Phillipines</td>\n",
       "    </tr>\n",
       "    <tr>\n",
       "      <th>2</th>\n",
       "      <td>6300002</td>\n",
       "      <td>Heat - Edsa Shangri-La</td>\n",
       "      <td>Phillipines</td>\n",
       "      <td>Mandaluyong City</td>\n",
       "      <td>Edsa Shangri-La, 1 Garden Way, Ortigas, Mandal...</td>\n",
       "      <td>Edsa Shangri-La, Ortigas, Mandaluyong City</td>\n",
       "      <td>Edsa Shangri-La, Ortigas, Mandaluyong City, Ma...</td>\n",
       "      <td>121.056831</td>\n",
       "      <td>14.581404</td>\n",
       "      <td>Seafood, Asian, Filipino, Indian</td>\n",
       "      <td>...</td>\n",
       "      <td>Yes</td>\n",
       "      <td>No</td>\n",
       "      <td>No</td>\n",
       "      <td>No</td>\n",
       "      <td>4</td>\n",
       "      <td>4.4</td>\n",
       "      <td>Green</td>\n",
       "      <td>Very Good</td>\n",
       "      <td>270</td>\n",
       "      <td>Phillipines</td>\n",
       "    </tr>\n",
       "    <tr>\n",
       "      <th>3</th>\n",
       "      <td>6318506</td>\n",
       "      <td>Ooma</td>\n",
       "      <td>Phillipines</td>\n",
       "      <td>Mandaluyong City</td>\n",
       "      <td>Third Floor, Mega Fashion Hall, SM Megamall, O...</td>\n",
       "      <td>SM Megamall, Ortigas, Mandaluyong City</td>\n",
       "      <td>SM Megamall, Ortigas, Mandaluyong City, Mandal...</td>\n",
       "      <td>121.056475</td>\n",
       "      <td>14.585318</td>\n",
       "      <td>Japanese, Sushi</td>\n",
       "      <td>...</td>\n",
       "      <td>No</td>\n",
       "      <td>No</td>\n",
       "      <td>No</td>\n",
       "      <td>No</td>\n",
       "      <td>4</td>\n",
       "      <td>4.9</td>\n",
       "      <td>Dark Green</td>\n",
       "      <td>Excellent</td>\n",
       "      <td>365</td>\n",
       "      <td>Phillipines</td>\n",
       "    </tr>\n",
       "    <tr>\n",
       "      <th>4</th>\n",
       "      <td>6314302</td>\n",
       "      <td>Sambo Kojin</td>\n",
       "      <td>Phillipines</td>\n",
       "      <td>Mandaluyong City</td>\n",
       "      <td>Third Floor, Mega Atrium, SM Megamall, Ortigas...</td>\n",
       "      <td>SM Megamall, Ortigas, Mandaluyong City</td>\n",
       "      <td>SM Megamall, Ortigas, Mandaluyong City, Mandal...</td>\n",
       "      <td>121.057508</td>\n",
       "      <td>14.584450</td>\n",
       "      <td>Japanese, Korean</td>\n",
       "      <td>...</td>\n",
       "      <td>Yes</td>\n",
       "      <td>No</td>\n",
       "      <td>No</td>\n",
       "      <td>No</td>\n",
       "      <td>4</td>\n",
       "      <td>4.8</td>\n",
       "      <td>Dark Green</td>\n",
       "      <td>Excellent</td>\n",
       "      <td>229</td>\n",
       "      <td>Phillipines</td>\n",
       "    </tr>\n",
       "    <tr>\n",
       "      <th>...</th>\n",
       "      <td>...</td>\n",
       "      <td>...</td>\n",
       "      <td>...</td>\n",
       "      <td>...</td>\n",
       "      <td>...</td>\n",
       "      <td>...</td>\n",
       "      <td>...</td>\n",
       "      <td>...</td>\n",
       "      <td>...</td>\n",
       "      <td>...</td>\n",
       "      <td>...</td>\n",
       "      <td>...</td>\n",
       "      <td>...</td>\n",
       "      <td>...</td>\n",
       "      <td>...</td>\n",
       "      <td>...</td>\n",
       "      <td>...</td>\n",
       "      <td>...</td>\n",
       "      <td>...</td>\n",
       "      <td>...</td>\n",
       "      <td>...</td>\n",
       "    </tr>\n",
       "    <tr>\n",
       "      <th>9546</th>\n",
       "      <td>5915730</td>\n",
       "      <td>NamlÛ± Gurme</td>\n",
       "      <td>Turkey</td>\n",
       "      <td>ÛÁstanbul</td>\n",
       "      <td>Kemankeô Karamustafa Paôa Mahallesi, RÛ±htÛ±...</td>\n",
       "      <td>Karakí_y</td>\n",
       "      <td>Karakí_y, ÛÁstanbul</td>\n",
       "      <td>28.977392</td>\n",
       "      <td>41.022793</td>\n",
       "      <td>Turkish</td>\n",
       "      <td>...</td>\n",
       "      <td>No</td>\n",
       "      <td>No</td>\n",
       "      <td>No</td>\n",
       "      <td>No</td>\n",
       "      <td>3</td>\n",
       "      <td>4.1</td>\n",
       "      <td>Green</td>\n",
       "      <td>Very Good</td>\n",
       "      <td>788</td>\n",
       "      <td>Turkey</td>\n",
       "    </tr>\n",
       "    <tr>\n",
       "      <th>9547</th>\n",
       "      <td>5908749</td>\n",
       "      <td>Ceviz AÛôacÛ±</td>\n",
       "      <td>Turkey</td>\n",
       "      <td>ÛÁstanbul</td>\n",
       "      <td>Koôuyolu Mahallesi, Muhittin íìstí_ndaÛô Cadd...</td>\n",
       "      <td>Koôuyolu</td>\n",
       "      <td>Koôuyolu, ÛÁstanbul</td>\n",
       "      <td>29.041297</td>\n",
       "      <td>41.009847</td>\n",
       "      <td>World Cuisine, Patisserie, Cafe</td>\n",
       "      <td>...</td>\n",
       "      <td>No</td>\n",
       "      <td>No</td>\n",
       "      <td>No</td>\n",
       "      <td>No</td>\n",
       "      <td>3</td>\n",
       "      <td>4.2</td>\n",
       "      <td>Green</td>\n",
       "      <td>Very Good</td>\n",
       "      <td>1034</td>\n",
       "      <td>Turkey</td>\n",
       "    </tr>\n",
       "    <tr>\n",
       "      <th>9548</th>\n",
       "      <td>5915807</td>\n",
       "      <td>Huqqa</td>\n",
       "      <td>Turkey</td>\n",
       "      <td>ÛÁstanbul</td>\n",
       "      <td>Kuruí_eôme Mahallesi, Muallim Naci Caddesi, N...</td>\n",
       "      <td>Kuruí_eôme</td>\n",
       "      <td>Kuruí_eôme, ÛÁstanbul</td>\n",
       "      <td>29.034640</td>\n",
       "      <td>41.055817</td>\n",
       "      <td>Italian, World Cuisine</td>\n",
       "      <td>...</td>\n",
       "      <td>No</td>\n",
       "      <td>No</td>\n",
       "      <td>No</td>\n",
       "      <td>No</td>\n",
       "      <td>4</td>\n",
       "      <td>3.7</td>\n",
       "      <td>Yellow</td>\n",
       "      <td>Good</td>\n",
       "      <td>661</td>\n",
       "      <td>Turkey</td>\n",
       "    </tr>\n",
       "    <tr>\n",
       "      <th>9549</th>\n",
       "      <td>5916112</td>\n",
       "      <td>Aôôk Kahve</td>\n",
       "      <td>Turkey</td>\n",
       "      <td>ÛÁstanbul</td>\n",
       "      <td>Kuruí_eôme Mahallesi, Muallim Naci Caddesi, N...</td>\n",
       "      <td>Kuruí_eôme</td>\n",
       "      <td>Kuruí_eôme, ÛÁstanbul</td>\n",
       "      <td>29.036019</td>\n",
       "      <td>41.057979</td>\n",
       "      <td>Restaurant Cafe</td>\n",
       "      <td>...</td>\n",
       "      <td>No</td>\n",
       "      <td>No</td>\n",
       "      <td>No</td>\n",
       "      <td>No</td>\n",
       "      <td>4</td>\n",
       "      <td>4.0</td>\n",
       "      <td>Green</td>\n",
       "      <td>Very Good</td>\n",
       "      <td>901</td>\n",
       "      <td>Turkey</td>\n",
       "    </tr>\n",
       "    <tr>\n",
       "      <th>9550</th>\n",
       "      <td>5927402</td>\n",
       "      <td>Walter's Coffee Roastery</td>\n",
       "      <td>Turkey</td>\n",
       "      <td>ÛÁstanbul</td>\n",
       "      <td>CafeaÛôa Mahallesi, BademaltÛ± Sokak, No 21/B,...</td>\n",
       "      <td>Moda</td>\n",
       "      <td>Moda, ÛÁstanbul</td>\n",
       "      <td>29.026016</td>\n",
       "      <td>40.984776</td>\n",
       "      <td>Cafe</td>\n",
       "      <td>...</td>\n",
       "      <td>No</td>\n",
       "      <td>No</td>\n",
       "      <td>No</td>\n",
       "      <td>No</td>\n",
       "      <td>2</td>\n",
       "      <td>4.0</td>\n",
       "      <td>Green</td>\n",
       "      <td>Very Good</td>\n",
       "      <td>591</td>\n",
       "      <td>Turkey</td>\n",
       "    </tr>\n",
       "  </tbody>\n",
       "</table>\n",
       "<p>9551 rows × 22 columns</p>\n",
       "</div>"
      ],
      "text/plain": [
       "      Restaurant ID           Restaurant Name      Country              City  \\\n",
       "0           6317637          Le Petit Souffle  Phillipines       Makati City   \n",
       "1           6304287          Izakaya Kikufuji  Phillipines       Makati City   \n",
       "2           6300002    Heat - Edsa Shangri-La  Phillipines  Mandaluyong City   \n",
       "3           6318506                      Ooma  Phillipines  Mandaluyong City   \n",
       "4           6314302               Sambo Kojin  Phillipines  Mandaluyong City   \n",
       "...             ...                       ...          ...               ...   \n",
       "9546        5915730              NamlÛ± Gurme       Turkey         ÛÁstanbul   \n",
       "9547        5908749             Ceviz AÛôacÛ±       Turkey         ÛÁstanbul   \n",
       "9548        5915807                     Huqqa       Turkey         ÛÁstanbul   \n",
       "9549        5916112              Aôôk Kahve       Turkey         ÛÁstanbul   \n",
       "9550        5927402  Walter's Coffee Roastery       Turkey         ÛÁstanbul   \n",
       "\n",
       "                                                Address  \\\n",
       "0     Third Floor, Century City Mall, Kalayaan Avenu...   \n",
       "1     Little Tokyo, 2277 Chino Roces Avenue, Legaspi...   \n",
       "2     Edsa Shangri-La, 1 Garden Way, Ortigas, Mandal...   \n",
       "3     Third Floor, Mega Fashion Hall, SM Megamall, O...   \n",
       "4     Third Floor, Mega Atrium, SM Megamall, Ortigas...   \n",
       "...                                                 ...   \n",
       "9546  Kemankeô Karamustafa Paôa Mahallesi, RÛ±htÛ±...   \n",
       "9547  Koôuyolu Mahallesi, Muhittin íìstí_ndaÛô Cadd...   \n",
       "9548  Kuruí_eôme Mahallesi, Muallim Naci Caddesi, N...   \n",
       "9549  Kuruí_eôme Mahallesi, Muallim Naci Caddesi, N...   \n",
       "9550  CafeaÛôa Mahallesi, BademaltÛ± Sokak, No 21/B,...   \n",
       "\n",
       "                                        Locality  \\\n",
       "0      Century City Mall, Poblacion, Makati City   \n",
       "1     Little Tokyo, Legaspi Village, Makati City   \n",
       "2     Edsa Shangri-La, Ortigas, Mandaluyong City   \n",
       "3         SM Megamall, Ortigas, Mandaluyong City   \n",
       "4         SM Megamall, Ortigas, Mandaluyong City   \n",
       "...                                          ...   \n",
       "9546                                    Karakí_y   \n",
       "9547                                   Koôuyolu   \n",
       "9548                                 Kuruí_eôme   \n",
       "9549                                 Kuruí_eôme   \n",
       "9550                                        Moda   \n",
       "\n",
       "                                       Locality Verbose   Longitude  \\\n",
       "0     Century City Mall, Poblacion, Makati City, Mak...  121.027535   \n",
       "1     Little Tokyo, Legaspi Village, Makati City, Ma...  121.014101   \n",
       "2     Edsa Shangri-La, Ortigas, Mandaluyong City, Ma...  121.056831   \n",
       "3     SM Megamall, Ortigas, Mandaluyong City, Mandal...  121.056475   \n",
       "4     SM Megamall, Ortigas, Mandaluyong City, Mandal...  121.057508   \n",
       "...                                                 ...         ...   \n",
       "9546                                Karakí_y, ÛÁstanbul   28.977392   \n",
       "9547                               Koôuyolu, ÛÁstanbul   29.041297   \n",
       "9548                             Kuruí_eôme, ÛÁstanbul   29.034640   \n",
       "9549                             Kuruí_eôme, ÛÁstanbul   29.036019   \n",
       "9550                                    Moda, ÛÁstanbul   29.026016   \n",
       "\n",
       "       Latitude                          Cuisines  ...  Has Table booking  \\\n",
       "0     14.565443        French, Japanese, Desserts  ...                Yes   \n",
       "1     14.553708                          Japanese  ...                Yes   \n",
       "2     14.581404  Seafood, Asian, Filipino, Indian  ...                Yes   \n",
       "3     14.585318                   Japanese, Sushi  ...                 No   \n",
       "4     14.584450                  Japanese, Korean  ...                Yes   \n",
       "...         ...                               ...  ...                ...   \n",
       "9546  41.022793                           Turkish  ...                 No   \n",
       "9547  41.009847   World Cuisine, Patisserie, Cafe  ...                 No   \n",
       "9548  41.055817            Italian, World Cuisine  ...                 No   \n",
       "9549  41.057979                   Restaurant Cafe  ...                 No   \n",
       "9550  40.984776                              Cafe  ...                 No   \n",
       "\n",
       "     Has Online delivery Is delivering now Switch to order menu Price range  \\\n",
       "0                     No                No                   No           3   \n",
       "1                     No                No                   No           3   \n",
       "2                     No                No                   No           4   \n",
       "3                     No                No                   No           4   \n",
       "4                     No                No                   No           4   \n",
       "...                  ...               ...                  ...         ...   \n",
       "9546                  No                No                   No           3   \n",
       "9547                  No                No                   No           3   \n",
       "9548                  No                No                   No           4   \n",
       "9549                  No                No                   No           4   \n",
       "9550                  No                No                   No           2   \n",
       "\n",
       "     Aggregate rating  Rating color  Rating text Votes    Country.1  \n",
       "0                 4.8    Dark Green    Excellent   314  Phillipines  \n",
       "1                 4.5    Dark Green    Excellent   591  Phillipines  \n",
       "2                 4.4         Green    Very Good   270  Phillipines  \n",
       "3                 4.9    Dark Green    Excellent   365  Phillipines  \n",
       "4                 4.8    Dark Green    Excellent   229  Phillipines  \n",
       "...               ...           ...          ...   ...          ...  \n",
       "9546              4.1         Green    Very Good   788       Turkey  \n",
       "9547              4.2         Green    Very Good  1034       Turkey  \n",
       "9548              3.7        Yellow         Good   661       Turkey  \n",
       "9549              4.0         Green    Very Good   901       Turkey  \n",
       "9550              4.0         Green    Very Good   591       Turkey  \n",
       "\n",
       "[9551 rows x 22 columns]"
      ]
     },
     "execution_count": 26,
     "metadata": {},
     "output_type": "execute_result"
    }
   ],
   "source": [
    "zom1=pd.read_excel('zomato - merged.xlsx')\n",
    "zom1"
   ]
  },
  {
   "cell_type": "code",
   "execution_count": 27,
   "id": "78173506",
   "metadata": {},
   "outputs": [
    {
     "data": {
      "text/plain": [
       "(9551, 22)"
      ]
     },
     "execution_count": 27,
     "metadata": {},
     "output_type": "execute_result"
    }
   ],
   "source": [
    "zom1.shape"
   ]
  },
  {
   "cell_type": "code",
   "execution_count": 28,
   "id": "10bb9054",
   "metadata": {},
   "outputs": [
    {
     "name": "stdout",
     "output_type": "stream",
     "text": [
      "<class 'pandas.core.frame.DataFrame'>\n",
      "RangeIndex: 9551 entries, 0 to 9550\n",
      "Data columns (total 22 columns):\n",
      " #   Column                Non-Null Count  Dtype  \n",
      "---  ------                --------------  -----  \n",
      " 0   Restaurant ID         9551 non-null   int64  \n",
      " 1   Restaurant Name       9551 non-null   object \n",
      " 2   Country               9551 non-null   object \n",
      " 3   City                  9551 non-null   object \n",
      " 4   Address               9551 non-null   object \n",
      " 5   Locality              9551 non-null   object \n",
      " 6   Locality Verbose      9551 non-null   object \n",
      " 7   Longitude             9551 non-null   float64\n",
      " 8   Latitude              9551 non-null   float64\n",
      " 9   Cuisines              9542 non-null   object \n",
      " 10  Average Cost for two  9551 non-null   int64  \n",
      " 11  Currency              9551 non-null   object \n",
      " 12  Has Table booking     9551 non-null   object \n",
      " 13  Has Online delivery   9551 non-null   object \n",
      " 14  Is delivering now     9551 non-null   object \n",
      " 15  Switch to order menu  9551 non-null   object \n",
      " 16  Price range           9551 non-null   int64  \n",
      " 17  Aggregate rating      9551 non-null   float64\n",
      " 18  Rating color          9551 non-null   object \n",
      " 19  Rating text           9551 non-null   object \n",
      " 20  Votes                 9551 non-null   int64  \n",
      " 21  Country.1             9551 non-null   object \n",
      "dtypes: float64(3), int64(4), object(15)\n",
      "memory usage: 1.6+ MB\n"
     ]
    }
   ],
   "source": [
    "zom1.info()"
   ]
  },
  {
   "cell_type": "code",
   "execution_count": 29,
   "id": "3d41d927",
   "metadata": {},
   "outputs": [
    {
     "data": {
      "text/plain": [
       "Restaurant ID           0\n",
       "Restaurant Name         0\n",
       "Country                 0\n",
       "City                    0\n",
       "Address                 0\n",
       "Locality                0\n",
       "Locality Verbose        0\n",
       "Longitude               0\n",
       "Latitude                0\n",
       "Cuisines                9\n",
       "Average Cost for two    0\n",
       "Currency                0\n",
       "Has Table booking       0\n",
       "Has Online delivery     0\n",
       "Is delivering now       0\n",
       "Switch to order menu    0\n",
       "Price range             0\n",
       "Aggregate rating        0\n",
       "Rating color            0\n",
       "Rating text             0\n",
       "Votes                   0\n",
       "Country.1               0\n",
       "dtype: int64"
      ]
     },
     "execution_count": 29,
     "metadata": {},
     "output_type": "execute_result"
    }
   ],
   "source": [
    "zom1.isna().sum()"
   ]
  },
  {
   "cell_type": "markdown",
   "id": "d3ab8101",
   "metadata": {},
   "source": [
    "### 1.Check is there any null values in the data. Yes/ No"
   ]
  },
  {
   "cell_type": "code",
   "execution_count": 30,
   "id": "62d94b7b",
   "metadata": {},
   "outputs": [],
   "source": [
    "#No"
   ]
  },
  {
   "cell_type": "code",
   "execution_count": 31,
   "id": "c6ac7d5a",
   "metadata": {},
   "outputs": [
    {
     "data": {
      "text/plain": [
       "Index(['Restaurant ID', 'Restaurant Name', 'Country', 'City', 'Address',\n",
       "       'Locality', 'Locality Verbose', 'Longitude', 'Latitude', 'Cuisines',\n",
       "       'Average Cost for two', 'Currency', 'Has Table booking',\n",
       "       'Has Online delivery', 'Is delivering now', 'Switch to order menu',\n",
       "       'Price range', 'Aggregate rating', 'Rating color', 'Rating text',\n",
       "       'Votes', 'Country.1'],\n",
       "      dtype='object')"
      ]
     },
     "execution_count": 31,
     "metadata": {},
     "output_type": "execute_result"
    }
   ],
   "source": [
    "zom1.columns"
   ]
  },
  {
   "cell_type": "markdown",
   "id": "b42ef878",
   "metadata": {},
   "source": [
    "### 2.Find total cost."
   ]
  },
  {
   "cell_type": "code",
   "execution_count": 32,
   "id": "f362aee7",
   "metadata": {},
   "outputs": [
    {
     "data": {
      "text/plain": [
       "11453662"
      ]
     },
     "execution_count": 32,
     "metadata": {},
     "output_type": "execute_result"
    }
   ],
   "source": [
    "zom1['Average Cost for two'].sum()"
   ]
  },
  {
   "cell_type": "markdown",
   "id": "d30fbd81",
   "metadata": {},
   "source": [
    "### 3.Find total number of country."
   ]
  },
  {
   "cell_type": "code",
   "execution_count": 33,
   "id": "86a6b4bf",
   "metadata": {},
   "outputs": [
    {
     "data": {
      "text/plain": [
       "9551"
      ]
     },
     "execution_count": 33,
     "metadata": {},
     "output_type": "execute_result"
    }
   ],
   "source": [
    "zom1['Country'].count()"
   ]
  },
  {
   "cell_type": "markdown",
   "id": "5de3bf4a",
   "metadata": {},
   "source": [
    "### 4.Find maximum cost"
   ]
  },
  {
   "cell_type": "code",
   "execution_count": 34,
   "id": "91cf9c19",
   "metadata": {},
   "outputs": [
    {
     "data": {
      "text/plain": [
       "800000"
      ]
     },
     "execution_count": 34,
     "metadata": {},
     "output_type": "execute_result"
    }
   ],
   "source": [
    "zom1['Average Cost for two'].max()"
   ]
  },
  {
   "cell_type": "markdown",
   "id": "f7174fa9",
   "metadata": {},
   "source": [
    "### 5.Find Minimum cost"
   ]
  },
  {
   "cell_type": "code",
   "execution_count": 35,
   "id": "c98f62f9",
   "metadata": {},
   "outputs": [
    {
     "data": {
      "text/plain": [
       "0"
      ]
     },
     "execution_count": 35,
     "metadata": {},
     "output_type": "execute_result"
    }
   ],
   "source": [
    "zom1['Average Cost for two'].min()"
   ]
  },
  {
   "cell_type": "markdown",
   "id": "956300d5",
   "metadata": {},
   "source": [
    "### 6.Find the Average cost"
   ]
  },
  {
   "cell_type": "code",
   "execution_count": 36,
   "id": "55d98155",
   "metadata": {},
   "outputs": [
    {
     "data": {
      "text/plain": [
       "1199.2107632708617"
      ]
     },
     "execution_count": 36,
     "metadata": {},
     "output_type": "execute_result"
    }
   ],
   "source": [
    "zom1['Average Cost for two'].mean()"
   ]
  },
  {
   "cell_type": "markdown",
   "id": "960a79e2",
   "metadata": {},
   "source": [
    "### 7.Find the Range of cost"
   ]
  },
  {
   "cell_type": "code",
   "execution_count": 37,
   "id": "c88310ba",
   "metadata": {},
   "outputs": [
    {
     "data": {
      "text/plain": [
       "800000"
      ]
     },
     "execution_count": 37,
     "metadata": {},
     "output_type": "execute_result"
    }
   ],
   "source": [
    "#range= max()-min()\n",
    "Range = 800000 - 0\n",
    "Range"
   ]
  },
  {
   "cell_type": "markdown",
   "id": "b5afe31a",
   "metadata": {},
   "source": [
    "### 8.Find the Standard Deviation of cost"
   ]
  },
  {
   "cell_type": "code",
   "execution_count": 38,
   "id": "5bd496d5",
   "metadata": {},
   "outputs": [
    {
     "data": {
      "text/plain": [
       "16121.18307349965"
      ]
     },
     "execution_count": 38,
     "metadata": {},
     "output_type": "execute_result"
    }
   ],
   "source": [
    "zom1['Average Cost for two'].std()"
   ]
  },
  {
   "cell_type": "markdown",
   "id": "569e119b",
   "metadata": {},
   "source": [
    "### 9.Find Average cost by each Currency"
   ]
  },
  {
   "cell_type": "code",
   "execution_count": 39,
   "id": "64759bce",
   "metadata": {},
   "outputs": [
    {
     "name": "stderr",
     "output_type": "stream",
     "text": [
      "C:\\Users\\vantl\\AppData\\Local\\Temp\\ipykernel_13708\\237016075.py:1: FutureWarning: The default value of numeric_only in DataFrameGroupBy.mean is deprecated. In a future version, numeric_only will default to False. Either specify numeric_only or select only columns which should be valid for the function.\n",
      "  zom1.groupby('Currency').mean()['Average Cost for two']\n"
     ]
    },
    {
     "data": {
      "text/plain": [
       "Currency\n",
       "Botswana Pula(P)            1606.818182\n",
       "Brazilian Real(R$)           134.666667\n",
       "Dollar($)                     31.510373\n",
       "Emirati Diram(AED)           166.416667\n",
       "Indian Rupees(Rs.)           623.370319\n",
       "Indonesian Rupiah(IDR)    281190.476190\n",
       "NewZealand($)                 69.750000\n",
       "Pounds(Œ£)                    47.812500\n",
       "Qatari Rial(QR)              223.750000\n",
       "Rand(R)                      419.733333\n",
       "Sri Lankan Rupee(LKR)       2375.000000\n",
       "Turkish Lira(TL)              84.852941\n",
       "Name: Average Cost for two, dtype: float64"
      ]
     },
     "execution_count": 39,
     "metadata": {},
     "output_type": "execute_result"
    }
   ],
   "source": [
    "zom1.groupby('Currency').mean()['Average Cost for two']"
   ]
  },
  {
   "cell_type": "markdown",
   "id": "4c0fe974",
   "metadata": {},
   "source": [
    "### 10.Find maximum cost by each Currency"
   ]
  },
  {
   "cell_type": "code",
   "execution_count": 40,
   "id": "845f22ed",
   "metadata": {
    "scrolled": true
   },
   "outputs": [
    {
     "name": "stderr",
     "output_type": "stream",
     "text": [
      "C:\\Users\\vantl\\AppData\\Local\\Temp\\ipykernel_13708\\2730664971.py:1: FutureWarning: Dropping invalid columns in DataFrameGroupBy.max is deprecated. In a future version, a TypeError will be raised. Before calling .max, select only columns which should be valid for the function.\n",
      "  zom1.groupby('Currency').max()['Average Cost for two']\n"
     ]
    },
    {
     "data": {
      "text/plain": [
       "Currency\n",
       "Botswana Pula(P)            6000\n",
       "Brazilian Real(R$)           400\n",
       "Dollar($)                    500\n",
       "Emirati Diram(AED)           500\n",
       "Indian Rupees(Rs.)          8000\n",
       "Indonesian Rupiah(IDR)    800000\n",
       "NewZealand($)                200\n",
       "Pounds(Œ£)                   230\n",
       "Qatari Rial(QR)              550\n",
       "Rand(R)                     3210\n",
       "Sri Lankan Rupee(LKR)       4500\n",
       "Turkish Lira(TL)             400\n",
       "Name: Average Cost for two, dtype: int64"
      ]
     },
     "execution_count": 40,
     "metadata": {},
     "output_type": "execute_result"
    }
   ],
   "source": [
    "zom1.groupby('Currency').max()['Average Cost for two']"
   ]
  },
  {
   "cell_type": "markdown",
   "id": "d0424c3a",
   "metadata": {},
   "source": [
    "### 11.Find minimum cost by each Currency"
   ]
  },
  {
   "cell_type": "code",
   "execution_count": 41,
   "id": "93c2acab",
   "metadata": {},
   "outputs": [
    {
     "name": "stderr",
     "output_type": "stream",
     "text": [
      "C:\\Users\\vantl\\AppData\\Local\\Temp\\ipykernel_13708\\426081308.py:1: FutureWarning: Dropping invalid columns in DataFrameGroupBy.min is deprecated. In a future version, a TypeError will be raised. Before calling .min, select only columns which should be valid for the function.\n",
      "  zom1.groupby('Currency').min()['Average Cost for two']\n"
     ]
    },
    {
     "data": {
      "text/plain": [
       "Currency\n",
       "Botswana Pula(P)            600\n",
       "Brazilian Real(R$)           30\n",
       "Dollar($)                     0\n",
       "Emirati Diram(AED)           40\n",
       "Indian Rupees(Rs.)            0\n",
       "Indonesian Rupiah(IDR)    70000\n",
       "NewZealand($)                20\n",
       "Pounds(Œ£)                   10\n",
       "Qatari Rial(QR)              50\n",
       "Rand(R)                     110\n",
       "Sri Lankan Rupee(LKR)      1000\n",
       "Turkish Lira(TL)             30\n",
       "Name: Average Cost for two, dtype: int64"
      ]
     },
     "execution_count": 41,
     "metadata": {},
     "output_type": "execute_result"
    }
   ],
   "source": [
    "zom1.groupby('Currency').min()['Average Cost for two']"
   ]
  },
  {
   "cell_type": "markdown",
   "id": "f79d2cd8",
   "metadata": {},
   "source": [
    "### 12.check the descriptive for price range"
   ]
  },
  {
   "cell_type": "code",
   "execution_count": 42,
   "id": "d71e33fe",
   "metadata": {},
   "outputs": [
    {
     "data": {
      "text/plain": [
       "count    9551.000000\n",
       "mean        1.804837\n",
       "std         0.905609\n",
       "min         1.000000\n",
       "25%         1.000000\n",
       "50%         2.000000\n",
       "75%         2.000000\n",
       "max         4.000000\n",
       "Name: Price range, dtype: float64"
      ]
     },
     "execution_count": 42,
     "metadata": {},
     "output_type": "execute_result"
    }
   ],
   "source": [
    "zom1.describe()['Price range']"
   ]
  },
  {
   "cell_type": "markdown",
   "id": "ada4494a",
   "metadata": {},
   "source": [
    "### 13.Find how many rating text had good"
   ]
  },
  {
   "cell_type": "code",
   "execution_count": 43,
   "id": "78311c82",
   "metadata": {},
   "outputs": [
    {
     "data": {
      "text/plain": [
       "Average      3737\n",
       "Not rated    2148\n",
       "Good         2100\n",
       "Very Good    1079\n",
       "Excellent     301\n",
       "Poor          186\n",
       "Name: Rating text, dtype: int64"
      ]
     },
     "execution_count": 43,
     "metadata": {},
     "output_type": "execute_result"
    }
   ],
   "source": [
    "zom1['Rating text'].value_counts()"
   ]
  },
  {
   "cell_type": "markdown",
   "id": "270d3293",
   "metadata": {},
   "source": [
    "### 14.Find the total number of  rating color"
   ]
  },
  {
   "cell_type": "code",
   "execution_count": 49,
   "id": "778bca5e",
   "metadata": {},
   "outputs": [
    {
     "data": {
      "text/plain": [
       "Orange        3737\n",
       "White         2148\n",
       "Yellow        2100\n",
       "Green         1079\n",
       "Dark Green     301\n",
       "Red            186\n",
       "Name: Rating color, dtype: int64"
      ]
     },
     "execution_count": 49,
     "metadata": {},
     "output_type": "execute_result"
    }
   ],
   "source": [
    "zom1['Rating color'].value_counts()"
   ]
  },
  {
   "cell_type": "markdown",
   "id": "38120638",
   "metadata": {},
   "source": [
    "### 15.Find the total number of currency"
   ]
  },
  {
   "cell_type": "code",
   "execution_count": 50,
   "id": "73d742e4",
   "metadata": {},
   "outputs": [
    {
     "data": {
      "text/plain": [
       "Indian Rupees(Rs.)        8652\n",
       "Dollar($)                  482\n",
       "Pounds(Œ£)                  80\n",
       "Brazilian Real(R$)          60\n",
       "Emirati Diram(AED)          60\n",
       "Rand(R)                     60\n",
       "NewZealand($)               40\n",
       "Turkish Lira(TL)            34\n",
       "Botswana Pula(P)            22\n",
       "Indonesian Rupiah(IDR)      21\n",
       "Qatari Rial(QR)             20\n",
       "Sri Lankan Rupee(LKR)       20\n",
       "Name: Currency, dtype: int64"
      ]
     },
     "execution_count": 50,
     "metadata": {},
     "output_type": "execute_result"
    }
   ],
   "source": [
    "zom1['Currency'].value_counts()"
   ]
  },
  {
   "cell_type": "markdown",
   "id": "ba9d1cf7",
   "metadata": {},
   "source": [
    "### 16.Find the total number of restaurant in each country,city and address"
   ]
  },
  {
   "cell_type": "code",
   "execution_count": 53,
   "id": "40b74331",
   "metadata": {},
   "outputs": [
    {
     "data": {
      "text/plain": [
       "Country        City            Address                                    \n",
       "United States  Waterloo        911 W 23rd St, Cedar Falls, IA 50613           1\n",
       "               Weirton         322 American Way, Weirton, WV 26062            1\n",
       "               Winchester Bay  196 Bayfront Loop, Winchester Bay, OR 97467    1\n",
       "Name: Restaurant ID, dtype: int64"
      ]
     },
     "execution_count": 53,
     "metadata": {},
     "output_type": "execute_result"
    }
   ],
   "source": [
    "zom1.groupby(['Country','City','Address']).count()['Restaurant ID'].tail(3)"
   ]
  },
  {
   "cell_type": "markdown",
   "id": "6aab3cb3",
   "metadata": {},
   "source": [
    "### 17.Find the total number of rating color and restaurant "
   ]
  },
  {
   "cell_type": "code",
   "execution_count": 56,
   "id": "525fb0d5",
   "metadata": {},
   "outputs": [
    {
     "data": {
      "text/html": [
       "<div>\n",
       "<style scoped>\n",
       "    .dataframe tbody tr th:only-of-type {\n",
       "        vertical-align: middle;\n",
       "    }\n",
       "\n",
       "    .dataframe tbody tr th {\n",
       "        vertical-align: top;\n",
       "    }\n",
       "\n",
       "    .dataframe thead th {\n",
       "        text-align: right;\n",
       "    }\n",
       "</style>\n",
       "<table border=\"1\" class=\"dataframe\">\n",
       "  <thead>\n",
       "    <tr style=\"text-align: right;\">\n",
       "      <th>Rating color</th>\n",
       "      <th>Dark Green</th>\n",
       "      <th>Green</th>\n",
       "      <th>Orange</th>\n",
       "      <th>Red</th>\n",
       "      <th>White</th>\n",
       "      <th>Yellow</th>\n",
       "    </tr>\n",
       "    <tr>\n",
       "      <th>Restaurant Name</th>\n",
       "      <th></th>\n",
       "      <th></th>\n",
       "      <th></th>\n",
       "      <th></th>\n",
       "      <th></th>\n",
       "      <th></th>\n",
       "    </tr>\n",
       "  </thead>\n",
       "  <tbody>\n",
       "    <tr>\n",
       "      <th>t Lounge by Dilmah</th>\n",
       "      <td>0</td>\n",
       "      <td>0</td>\n",
       "      <td>0</td>\n",
       "      <td>0</td>\n",
       "      <td>0</td>\n",
       "      <td>1</td>\n",
       "    </tr>\n",
       "    <tr>\n",
       "      <th>tashas</th>\n",
       "      <td>0</td>\n",
       "      <td>1</td>\n",
       "      <td>0</td>\n",
       "      <td>0</td>\n",
       "      <td>0</td>\n",
       "      <td>0</td>\n",
       "    </tr>\n",
       "    <tr>\n",
       "      <th>wagamama</th>\n",
       "      <td>0</td>\n",
       "      <td>0</td>\n",
       "      <td>0</td>\n",
       "      <td>0</td>\n",
       "      <td>0</td>\n",
       "      <td>1</td>\n",
       "    </tr>\n",
       "    <tr>\n",
       "      <th>{Niche} - Cafe &amp; Bar</th>\n",
       "      <td>0</td>\n",
       "      <td>1</td>\n",
       "      <td>0</td>\n",
       "      <td>0</td>\n",
       "      <td>0</td>\n",
       "      <td>0</td>\n",
       "    </tr>\n",
       "    <tr>\n",
       "      <th>íˆukuraÛôa SofrasÛ±</th>\n",
       "      <td>0</td>\n",
       "      <td>1</td>\n",
       "      <td>0</td>\n",
       "      <td>0</td>\n",
       "      <td>0</td>\n",
       "      <td>0</td>\n",
       "    </tr>\n",
       "  </tbody>\n",
       "</table>\n",
       "</div>"
      ],
      "text/plain": [
       "Rating color          Dark Green  Green  Orange  Red  White  Yellow\n",
       "Restaurant Name                                                    \n",
       "t Lounge by Dilmah             0      0       0    0      0       1\n",
       "tashas                         0      1       0    0      0       0\n",
       "wagamama                       0      0       0    0      0       1\n",
       "{Niche} - Cafe & Bar           0      1       0    0      0       0\n",
       "íˆukuraÛôa SofrasÛ±            0      1       0    0      0       0"
      ]
     },
     "execution_count": 56,
     "metadata": {},
     "output_type": "execute_result"
    }
   ],
   "source": [
    "pd.crosstab(zom1['Restaurant Name'],zom1['Rating color']).tail()"
   ]
  },
  {
   "cell_type": "markdown",
   "id": "0b81fdd6",
   "metadata": {},
   "source": [
    "### 18.Find the top 5 countries of Average Cost for two"
   ]
  },
  {
   "cell_type": "code",
   "execution_count": 58,
   "id": "0dcea606",
   "metadata": {},
   "outputs": [
    {
     "name": "stderr",
     "output_type": "stream",
     "text": [
      "C:\\Users\\vantl\\AppData\\Local\\Temp\\ipykernel_13708\\2213691489.py:1: FutureWarning: The default value of numeric_only in DataFrameGroupBy.sum is deprecated. In a future version, numeric_only will default to False. Either specify numeric_only or select only columns which should be valid for the function.\n",
      "  zom1.groupby('Country').sum()['Average Cost for two'].nlargest(5)\n"
     ]
    },
    {
     "data": {
      "text/plain": [
       "Country\n",
       "Indonesia       5905000\n",
       "India           5393400\n",
       "Sri Lanka         47500\n",
       "Phillipines       35350\n",
       "South Africa      25184\n",
       "Name: Average Cost for two, dtype: int64"
      ]
     },
     "execution_count": 58,
     "metadata": {},
     "output_type": "execute_result"
    }
   ],
   "source": [
    "zom1.groupby('Country').sum()['Average Cost for two'].nlargest(5)"
   ]
  },
  {
   "cell_type": "markdown",
   "id": "a4620134",
   "metadata": {},
   "source": [
    "### 19.Show the average cost of each rating text in Pie Chart"
   ]
  },
  {
   "cell_type": "code",
   "execution_count": 63,
   "id": "6419a7fd",
   "metadata": {},
   "outputs": [
    {
     "name": "stderr",
     "output_type": "stream",
     "text": [
      "C:\\Users\\vantl\\AppData\\Local\\Temp\\ipykernel_13708\\3240587247.py:1: FutureWarning: The default value of numeric_only in DataFrameGroupBy.mean is deprecated. In a future version, numeric_only will default to False. Either specify numeric_only or select only columns which should be valid for the function.\n",
      "  zom1.groupby('Rating text').mean()['Average Cost for two'].plot(kind='pie')\n"
     ]
    },
    {
     "data": {
      "text/plain": [
       "<Axes: ylabel='Average Cost for two'>"
      ]
     },
     "execution_count": 63,
     "metadata": {},
     "output_type": "execute_result"
    },
    {
     "data": {
      "image/png": "[encoded data removed]",
      "text/plain": [
       "<Figure size 640x480 with 1 Axes>"
      ]
     },
     "metadata": {},
     "output_type": "display_data"
    }
   ],
   "source": [
    "zom1.groupby('Rating text').mean()['Average Cost for two'].plot(kind='pie')"
   ]
  },
  {
   "cell_type": "markdown",
   "id": "64985ad3",
   "metadata": {},
   "source": [
    "### 20.Show the total number of each rating color in bar"
   ]
  },
  {
   "cell_type": "code",
   "execution_count": null,
   "id": "d0449270",
   "metadata": {},
   "outputs": [],
   "source": [
    "#this is long hours of loading"
   ]
  },
  {
   "cell_type": "markdown",
   "id": "700acd80",
   "metadata": {},
   "source": [
    "### 21.Find the total number of rating color and votes"
   ]
  },
  {
   "cell_type": "code",
   "execution_count": null,
   "id": "8a88c135",
   "metadata": {},
   "outputs": [],
   "source": [
    "#this is long hours of loading\n",
    "\n",
    "pd.crosstab(zom1['Votes'],zom1['Rating color']).tail() "
   ]
  },
  {
   "cell_type": "markdown",
   "id": "9ca43cca",
   "metadata": {},
   "source": [
    "### 21.Write an Inference"
   ]
  },
  {
   "cell_type": "markdown",
   "id": "13bfa0d6",
   "metadata": {},
   "source": [
    "1.\tThis is a Zomato data.\n",
    "\n",
    "2.\tThere are 9551 rows and 22 columns.\n",
    "\n",
    "3.\tThere is no null values in the data.\n",
    "\n",
    "4.\t11453662 is total cost.\n",
    "\n",
    "5.\t9551 is total number of country.\n",
    "\n",
    "6.\tThe maximum cost is 800000.\n",
    "\n",
    "7.\tThe minimum cost is zero.\n",
    "\n",
    "8.\tThe average cost is 1199.2108.\n",
    "\n",
    "9.\tThe range of cost is 800000.\n",
    "\n",
    "10.\tThe standard deviation of cost is 16121.1831.\n",
    "\n",
    "11.\t9551 is total number of price range.\n",
    "\n",
    "12.\tThe average price is 1.805.\n",
    "\n",
    "13.\tThe standard deviation of price is 0.906.\n",
    "\n",
    "14.\tThe minimum price is 1.000.\n",
    "\n",
    "15.\tThe maximum cost is 4.000.\n",
    "\n",
    "16.\tWhich colour more number is orange and least number is red.\n",
    "\n"
   ]
  },
  {
   "cell_type": "code",
   "execution_count": null,
   "id": "4c319b5a",
   "metadata": {},
   "outputs": [],
   "source": []
  }
 ],
 "metadata": {
  "kernelspec": {
   "display_name": "Python 3 (ipykernel)",
   "language": "python",
   "name": "python3"
  },
  "language_info": {
   "codemirror_mode": {
    "name": "ipython",
    "version": 3
   },
   "file_extension": ".py",
   "mimetype": "text/x-python",
   "name": "python",
   "nbconvert_exporter": "python",
   "pygments_lexer": "ipython3",
   "version": "3.10.9"
  }
 },
 "nbformat": 4,
 "nbformat_minor": 5
}
